{
 "cells": [
  {
   "cell_type": "markdown",
   "metadata": {},
   "source": [
    "# Wells Fargo take-home project\n",
    "## Quantitative Analytical Specialist 2/3/4\n",
    "\n",
    "### Bibliography / references\n",
    "1. https://scikit-learn.org/stable/about.html#citing-scikit-learn\n",
    "1. https://scikit-learn.org/stable/tutorial/text_analytics/working_with_text_data.html\n",
    "1. https://datascienceplus.com/multi-class-text-classification-with-scikit-learn/\n",
    "1. https://stackabuse.com/overview-of-classification-methods-in-python-with-scikit-learn/\n",
    "1. https://www.digitalvidya.com/blog/document-classification-python-machine-learning/\n",
    "1. https://stackoverflow.com/questions/33091376/python-what-is-exactly-sklearn-pipeline-pipeline/33094099#33094099"
   ]
  },
  {
   "cell_type": "code",
   "execution_count": 1,
   "metadata": {},
   "outputs": [
    {
     "name": "stderr",
     "output_type": "stream",
     "text": [
      "DEBUG:__main__:Adding new path: C:\\Users\\Owner\\PycharmProjects\\Utilities to sys.path.\n"
     ]
    },
    {
     "data": {
      "text/plain": [
       "['C:\\\\Users\\\\Owner\\\\PycharmProjects\\\\DataScience',\n",
       " 'C:\\\\Users\\\\Owner\\\\Anaconda3\\\\python37.zip',\n",
       " 'C:\\\\Users\\\\Owner\\\\Anaconda3\\\\DLLs',\n",
       " 'C:\\\\Users\\\\Owner\\\\Anaconda3\\\\lib',\n",
       " 'C:\\\\Users\\\\Owner\\\\Anaconda3',\n",
       " '',\n",
       " 'C:\\\\Users\\\\Owner\\\\AppData\\\\Roaming\\\\Python\\\\Python37\\\\site-packages',\n",
       " 'C:\\\\Users\\\\Owner\\\\Anaconda3\\\\lib\\\\site-packages',\n",
       " 'C:\\\\Users\\\\Owner\\\\Anaconda3\\\\lib\\\\site-packages\\\\win32',\n",
       " 'C:\\\\Users\\\\Owner\\\\Anaconda3\\\\lib\\\\site-packages\\\\win32\\\\lib',\n",
       " 'C:\\\\Users\\\\Owner\\\\Anaconda3\\\\lib\\\\site-packages\\\\Pythonwin',\n",
       " 'C:\\\\Users\\\\Owner\\\\Anaconda3\\\\lib\\\\site-packages\\\\IPython\\\\extensions',\n",
       " 'C:\\\\Users\\\\Owner\\\\.ipython',\n",
       " 'C:\\\\Users\\\\Owner\\\\PycharmProjects\\\\Utilities']"
      ]
     },
     "execution_count": 1,
     "metadata": {},
     "output_type": "execute_result"
    }
   ],
   "source": [
    "import sys\n",
    "import logging\n",
    "\n",
    "logging.basicConfig(level=logging.DEBUG)\n",
    "logger = logging.getLogger(__name__)\n",
    "\n",
    "def add_path(newPath:str) -> str:\n",
    "    \"\"\"\n",
    "    Adds newPath to the existing sys path, if needed.\n",
    "    :param newPath: gets added temporarily to the PYTHONPATH.\n",
    "    :return: updated string\n",
    "    \"\"\"\n",
    "    if newPath in sys.path:\n",
    "        logger.warning(f'path: {newPath} is already on sys.path. (No action taken.)')\n",
    "        return sys.path\n",
    "    else:\n",
    "        logger.debug(f'Adding new path: {newPath} to sys.path.')\n",
    "        sys.path.append(newPath)\n",
    "    return sys.path\n",
    "\n",
    "add_path(r'C:\\Users\\Owner\\PycharmProjects\\Utilities')"
   ]
  },
  {
   "cell_type": "markdown",
   "metadata": {},
   "source": [
    "# Read in a prep data"
   ]
  },
  {
   "cell_type": "code",
   "execution_count": 14,
   "metadata": {},
   "outputs": [
    {
     "data": {
      "text/html": [
       "<div>\n",
       "<style scoped>\n",
       "    .dataframe tbody tr th:only-of-type {\n",
       "        vertical-align: middle;\n",
       "    }\n",
       "\n",
       "    .dataframe tbody tr th {\n",
       "        vertical-align: top;\n",
       "    }\n",
       "\n",
       "    .dataframe thead th {\n",
       "        text-align: right;\n",
       "    }\n",
       "</style>\n",
       "<table border=\"1\" class=\"dataframe\">\n",
       "  <thead>\n",
       "    <tr style=\"text-align: right;\">\n",
       "      <th></th>\n",
       "      <th>Date received</th>\n",
       "      <th>Product</th>\n",
       "      <th>Sub-product</th>\n",
       "      <th>Issue</th>\n",
       "      <th>Sub-issue</th>\n",
       "      <th>Consumer complaint narrative</th>\n",
       "      <th>Company public response</th>\n",
       "      <th>Company</th>\n",
       "      <th>State</th>\n",
       "      <th>ZIP code</th>\n",
       "      <th>Tags</th>\n",
       "      <th>Consumer consent provided?</th>\n",
       "      <th>Submitted via</th>\n",
       "      <th>Date sent to company</th>\n",
       "      <th>Company response to consumer</th>\n",
       "      <th>Timely response?</th>\n",
       "      <th>Consumer disputed?</th>\n",
       "      <th>Complaint ID</th>\n",
       "    </tr>\n",
       "  </thead>\n",
       "  <tbody>\n",
       "    <tr>\n",
       "      <th>0</th>\n",
       "      <td>04/01/19</td>\n",
       "      <td>Checking or savings account</td>\n",
       "      <td>Checking account</td>\n",
       "      <td>Managing an account</td>\n",
       "      <td>Banking errors</td>\n",
       "      <td>Wells Fargo has sent me several general form l...</td>\n",
       "      <td>Company has responded to the consumer and the ...</td>\n",
       "      <td>WELLS FARGO &amp; COMPANY</td>\n",
       "      <td>CT</td>\n",
       "      <td>06320</td>\n",
       "      <td>None</td>\n",
       "      <td>Consent provided</td>\n",
       "      <td>Web</td>\n",
       "      <td>04/01/19</td>\n",
       "      <td>Closed with monetary relief</td>\n",
       "      <td>Yes</td>\n",
       "      <td>NaN</td>\n",
       "      <td>3197548</td>\n",
       "    </tr>\n",
       "    <tr>\n",
       "      <th>1</th>\n",
       "      <td>04/10/19</td>\n",
       "      <td>Credit reporting, credit repair services, or o...</td>\n",
       "      <td>Credit reporting</td>\n",
       "      <td>Incorrect information on your report</td>\n",
       "      <td>Account information incorrect</td>\n",
       "      <td>This in reference to Wells Fargo bank. Referen...</td>\n",
       "      <td>Company has responded to the consumer and the ...</td>\n",
       "      <td>WELLS FARGO &amp; COMPANY</td>\n",
       "      <td>NH</td>\n",
       "      <td>None</td>\n",
       "      <td>None</td>\n",
       "      <td>Consent provided</td>\n",
       "      <td>Web</td>\n",
       "      <td>04/10/19</td>\n",
       "      <td>Closed with explanation</td>\n",
       "      <td>Yes</td>\n",
       "      <td>NaN</td>\n",
       "      <td>3207262</td>\n",
       "    </tr>\n",
       "    <tr>\n",
       "      <th>2</th>\n",
       "      <td>04/03/19</td>\n",
       "      <td>Checking or savings account</td>\n",
       "      <td>Savings account</td>\n",
       "      <td>Managing an account</td>\n",
       "      <td>Deposits and withdrawals</td>\n",
       "      <td>I went into the Wells Fargo branch inside the ...</td>\n",
       "      <td>Company has responded to the consumer and the ...</td>\n",
       "      <td>WELLS FARGO &amp; COMPANY</td>\n",
       "      <td>CA</td>\n",
       "      <td>934XX</td>\n",
       "      <td>Servicemember</td>\n",
       "      <td>Consent provided</td>\n",
       "      <td>Web</td>\n",
       "      <td>04/03/19</td>\n",
       "      <td>Closed with non-monetary relief</td>\n",
       "      <td>Yes</td>\n",
       "      <td>NaN</td>\n",
       "      <td>3200916</td>\n",
       "    </tr>\n",
       "    <tr>\n",
       "      <th>3</th>\n",
       "      <td>05/29/19</td>\n",
       "      <td>Checking or savings account</td>\n",
       "      <td>Checking account</td>\n",
       "      <td>Opening an account</td>\n",
       "      <td>Account opened as a result of fraud</td>\n",
       "      <td>I have been notified by XXXX XXXX XXXX  that I...</td>\n",
       "      <td>Company has responded to the consumer and the ...</td>\n",
       "      <td>WELLS FARGO &amp; COMPANY</td>\n",
       "      <td>TX</td>\n",
       "      <td>760XX</td>\n",
       "      <td>Servicemember</td>\n",
       "      <td>Consent provided</td>\n",
       "      <td>Web</td>\n",
       "      <td>05/29/19</td>\n",
       "      <td>Closed with explanation</td>\n",
       "      <td>Yes</td>\n",
       "      <td>NaN</td>\n",
       "      <td>3257338</td>\n",
       "    </tr>\n",
       "    <tr>\n",
       "      <th>4</th>\n",
       "      <td>03/31/19</td>\n",
       "      <td>Credit reporting, credit repair services, or o...</td>\n",
       "      <td>Credit reporting</td>\n",
       "      <td>Improper use of your report</td>\n",
       "      <td>Credit inquiries on your report that you don't...</td>\n",
       "      <td>On XX/XX/XXXX &amp; XXXX, my identity was stolen. ...</td>\n",
       "      <td>Company has responded to the consumer and the ...</td>\n",
       "      <td>WELLS FARGO &amp; COMPANY</td>\n",
       "      <td>MO</td>\n",
       "      <td>631XX</td>\n",
       "      <td>None</td>\n",
       "      <td>Consent provided</td>\n",
       "      <td>Web</td>\n",
       "      <td>03/31/19</td>\n",
       "      <td>Closed with explanation</td>\n",
       "      <td>Yes</td>\n",
       "      <td>NaN</td>\n",
       "      <td>3196955</td>\n",
       "    </tr>\n",
       "  </tbody>\n",
       "</table>\n",
       "</div>"
      ],
      "text/plain": [
       "  Date received                                            Product       Sub-product                                 Issue                                          Sub-issue                       Consumer complaint narrative                            Company public response                Company State ZIP code           Tags Consumer consent provided? Submitted via Date sent to company     Company response to consumer Timely response? Consumer disputed?  Complaint ID\n",
       "0      04/01/19                        Checking or savings account  Checking account                   Managing an account                                     Banking errors  Wells Fargo has sent me several general form l...  Company has responded to the consumer and the ...  WELLS FARGO & COMPANY    CT    06320           None           Consent provided           Web             04/01/19      Closed with monetary relief              Yes                NaN       3197548\n",
       "1      04/10/19  Credit reporting, credit repair services, or o...  Credit reporting  Incorrect information on your report                      Account information incorrect  This in reference to Wells Fargo bank. Referen...  Company has responded to the consumer and the ...  WELLS FARGO & COMPANY    NH     None           None           Consent provided           Web             04/10/19          Closed with explanation              Yes                NaN       3207262\n",
       "2      04/03/19                        Checking or savings account   Savings account                   Managing an account                           Deposits and withdrawals  I went into the Wells Fargo branch inside the ...  Company has responded to the consumer and the ...  WELLS FARGO & COMPANY    CA    934XX  Servicemember           Consent provided           Web             04/03/19  Closed with non-monetary relief              Yes                NaN       3200916\n",
       "3      05/29/19                        Checking or savings account  Checking account                    Opening an account                Account opened as a result of fraud  I have been notified by XXXX XXXX XXXX  that I...  Company has responded to the consumer and the ...  WELLS FARGO & COMPANY    TX    760XX  Servicemember           Consent provided           Web             05/29/19          Closed with explanation              Yes                NaN       3257338\n",
       "4      03/31/19  Credit reporting, credit repair services, or o...  Credit reporting           Improper use of your report  Credit inquiries on your report that you don't...  On XX/XX/XXXX & XXXX, my identity was stolen. ...  Company has responded to the consumer and the ...  WELLS FARGO & COMPANY    MO    631XX           None           Consent provided           Web             03/31/19          Closed with explanation              Yes                NaN       3196955"
      ]
     },
     "execution_count": 14,
     "metadata": {},
     "output_type": "execute_result"
    }
   ],
   "source": [
    "from PandasUtil import PandasUtil\n",
    "pu = PandasUtil()\n",
    "df = pu.read_df_from_csv(csv_file_name=\"complaints-2020-02-15_20_25.csv\", header=0)\n",
    "df.head()"
   ]
  },
  {
   "cell_type": "markdown",
   "metadata": {},
   "source": [
    "## Drop headers (except for Product and Consumer complaint narrative)"
   ]
  },
  {
   "cell_type": "code",
   "execution_count": 15,
   "metadata": {},
   "outputs": [
    {
     "data": {
      "text/html": [
       "<div>\n",
       "<style scoped>\n",
       "    .dataframe tbody tr th:only-of-type {\n",
       "        vertical-align: middle;\n",
       "    }\n",
       "\n",
       "    .dataframe tbody tr th {\n",
       "        vertical-align: top;\n",
       "    }\n",
       "\n",
       "    .dataframe thead th {\n",
       "        text-align: right;\n",
       "    }\n",
       "</style>\n",
       "<table border=\"1\" class=\"dataframe\">\n",
       "  <thead>\n",
       "    <tr style=\"text-align: right;\">\n",
       "      <th></th>\n",
       "      <th>Product</th>\n",
       "      <th>Complaint</th>\n",
       "    </tr>\n",
       "  </thead>\n",
       "  <tbody>\n",
       "    <tr>\n",
       "      <th>0</th>\n",
       "      <td>Checking or savings account</td>\n",
       "      <td>Wells Fargo has sent me several general form l...</td>\n",
       "    </tr>\n",
       "    <tr>\n",
       "      <th>1</th>\n",
       "      <td>Credit reporting, credit repair services, or o...</td>\n",
       "      <td>This in reference to Wells Fargo bank. Referen...</td>\n",
       "    </tr>\n",
       "    <tr>\n",
       "      <th>2</th>\n",
       "      <td>Checking or savings account</td>\n",
       "      <td>I went into the Wells Fargo branch inside the ...</td>\n",
       "    </tr>\n",
       "    <tr>\n",
       "      <th>3</th>\n",
       "      <td>Checking or savings account</td>\n",
       "      <td>I have been notified by XXXX XXXX XXXX  that I...</td>\n",
       "    </tr>\n",
       "    <tr>\n",
       "      <th>4</th>\n",
       "      <td>Credit reporting, credit repair services, or o...</td>\n",
       "      <td>On XX/XX/XXXX &amp; XXXX, my identity was stolen. ...</td>\n",
       "    </tr>\n",
       "  </tbody>\n",
       "</table>\n",
       "</div>"
      ],
      "text/plain": [
       "                                             Product                                          Complaint\n",
       "0                        Checking or savings account  Wells Fargo has sent me several general form l...\n",
       "1  Credit reporting, credit repair services, or o...  This in reference to Wells Fargo bank. Referen...\n",
       "2                        Checking or savings account  I went into the Wells Fargo branch inside the ...\n",
       "3                        Checking or savings account  I have been notified by XXXX XXXX XXXX  that I...\n",
       "4  Credit reporting, credit repair services, or o...  On XX/XX/XXXX & XXXX, my identity was stolen. ..."
      ]
     },
     "execution_count": 15,
     "metadata": {},
     "output_type": "execute_result"
    }
   ],
   "source": [
    "_PRODUCT = 'Product'\n",
    "_COMPLAINT = 'Complaint'\n",
    "\n",
    "pu.replace_col_names(df=df, replace_dict = {'Consumer complaint narrative': _COMPLAINT}, is_in_place=True)\n",
    "pu.drop_col_keeping(df, cols_to_keep=[_PRODUCT, _COMPLAINT], is_in_place=True)\n",
    "df.head()"
   ]
  },
  {
   "cell_type": "markdown",
   "metadata": {},
   "source": [
    "## Count how many products we have"
   ]
  },
  {
   "cell_type": "code",
   "execution_count": 16,
   "metadata": {},
   "outputs": [
    {
     "data": {
      "text/plain": [
       "Mortgage                                                                        6287\n",
       "Checking or savings account                                                     2265\n",
       "Bank account or service                                                         1927\n",
       "Credit reporting, credit repair services, or other personal consumer reports    1167\n",
       "Credit card or prepaid card                                                     1121\n",
       "Debt collection                                                                  791\n",
       "Credit card                                                                      710\n",
       "Consumer Loan                                                                    536\n",
       "Student loan                                                                     486\n",
       "Money transfer, virtual currency, or money service                               455\n",
       "Vehicle loan or lease                                                            403\n",
       "Payday loan, title loan, or personal loan                                        157\n",
       "Money transfers                                                                   66\n",
       "Credit reporting                                                                  29\n",
       "Prepaid card                                                                      13\n",
       "Payday loan                                                                        6\n",
       "Other financial service                                                            5\n",
       "Name: Product, dtype: int64"
      ]
     },
     "execution_count": 16,
     "metadata": {},
     "output_type": "execute_result"
    }
   ],
   "source": [
    "issues_df = pu.count_by_column(df, _PRODUCT)\n",
    "issues_df.head(20)"
   ]
  },
  {
   "cell_type": "markdown",
   "metadata": {},
   "source": [
    "### Consolidate the smallest products with fewer than 200\n",
    "1. Payday loan, title loan, or personal loan >> Consumer loan\n",
    "1. Money transfers >> Money transfer, virtual currency, or money service\n",
    "1. Credit reporting >> Credit reporting, credit repair services, or other personal consumer report\n",
    "1. Prepaid card >> Credit card or prepaid card \n",
    "1. Payday loan >> Consumer loan\n",
    "1. Other financial service >> (drop)"
   ]
  },
  {
   "cell_type": "code",
   "execution_count": 17,
   "metadata": {},
   "outputs": [],
   "source": [
    "# Build the a replacement dictionary with all values the same.\n",
    "products = list(issues_df.to_dict().keys())\n",
    "replace_dict = dict(zip(products, products)) # {'Mortgage': 'Mortgage', 'Checking or savings account': 'Checking or savings account',... }\n"
   ]
  },
  {
   "cell_type": "code",
   "execution_count": 18,
   "metadata": {},
   "outputs": [
    {
     "name": "stderr",
     "output_type": "stream",
     "text": [
      "DEBUG:PandasUtil:df has 16424 rows and 2 columns.\n",
      "DEBUG:PandasUtil:df has 16419 rows and 2 columns.\n"
     ]
    },
    {
     "data": {
      "text/html": [
       "<div>\n",
       "<style scoped>\n",
       "    .dataframe tbody tr th:only-of-type {\n",
       "        vertical-align: middle;\n",
       "    }\n",
       "\n",
       "    .dataframe tbody tr th {\n",
       "        vertical-align: top;\n",
       "    }\n",
       "\n",
       "    .dataframe thead th {\n",
       "        text-align: right;\n",
       "    }\n",
       "</style>\n",
       "<table border=\"1\" class=\"dataframe\">\n",
       "  <thead>\n",
       "    <tr style=\"text-align: right;\">\n",
       "      <th></th>\n",
       "      <th>Product</th>\n",
       "      <th>Complaint</th>\n",
       "    </tr>\n",
       "  </thead>\n",
       "  <tbody>\n",
       "    <tr>\n",
       "      <th>0</th>\n",
       "      <td>Checking or savings account</td>\n",
       "      <td>Wells Fargo has sent me several general form l...</td>\n",
       "    </tr>\n",
       "    <tr>\n",
       "      <th>1</th>\n",
       "      <td>Credit reporting, credit repair services, or o...</td>\n",
       "      <td>This in reference to Wells Fargo bank. Referen...</td>\n",
       "    </tr>\n",
       "    <tr>\n",
       "      <th>2</th>\n",
       "      <td>Checking or savings account</td>\n",
       "      <td>I went into the Wells Fargo branch inside the ...</td>\n",
       "    </tr>\n",
       "    <tr>\n",
       "      <th>3</th>\n",
       "      <td>Checking or savings account</td>\n",
       "      <td>I have been notified by XXXX XXXX XXXX  that I...</td>\n",
       "    </tr>\n",
       "    <tr>\n",
       "      <th>4</th>\n",
       "      <td>Credit reporting, credit repair services, or o...</td>\n",
       "      <td>On XX/XX/XXXX &amp; XXXX, my identity was stolen. ...</td>\n",
       "    </tr>\n",
       "  </tbody>\n",
       "</table>\n",
       "</div>"
      ],
      "text/plain": [
       "                                             Product                                          Complaint\n",
       "0                        Checking or savings account  Wells Fargo has sent me several general form l...\n",
       "1  Credit reporting, credit repair services, or o...  This in reference to Wells Fargo bank. Referen...\n",
       "2                        Checking or savings account  I went into the Wells Fargo branch inside the ...\n",
       "3                        Checking or savings account  I have been notified by XXXX XXXX XXXX  that I...\n",
       "4  Credit reporting, credit repair services, or o...  On XX/XX/XXXX & XXXX, my identity was stolen. ..."
      ]
     },
     "execution_count": 18,
     "metadata": {},
     "output_type": "execute_result"
    }
   ],
   "source": [
    "replace_dict['Payday loan, title loan, or personal loan'] = 'Consumer Loan'\n",
    "replace_dict['Money transfers'] = 'Money transfer, virtual currency, or money service'\n",
    "replace_dict['Credit reporting'] = 'Credit reporting, credit repair services, or other personal consumer reports'\n",
    "replace_dict['Prepaid card'] = 'Credit card or prepaid card' \n",
    "replace_dict['Payday loan'] = 'Consumer Loan'\n",
    "\n",
    "df = pu.replace_col(df, column=_PRODUCT, replace_dict=replace_dict)\n",
    "pu.get_rowCount_colCount(df)\n",
    "df = pu.drop_row_by_criterion(df, _PRODUCT, 'Other financial service', False)\n",
    "pu.get_rowCount_colCount(df)\n",
    "df.head()"
   ]
  },
  {
   "cell_type": "code",
   "execution_count": 19,
   "metadata": {},
   "outputs": [
    {
     "data": {
      "text/plain": [
       "Mortgage                                                                        6287\n",
       "Checking or savings account                                                     2265\n",
       "Bank account or service                                                         1927\n",
       "Credit reporting, credit repair services, or other personal consumer reports    1196\n",
       "Credit card or prepaid card                                                     1134\n",
       "Debt collection                                                                  791\n",
       "Credit card                                                                      710\n",
       "Consumer Loan                                                                    699\n",
       "Money transfer, virtual currency, or money service                               521\n",
       "Student loan                                                                     486\n",
       "Vehicle loan or lease                                                            403\n",
       "Name: Product, dtype: int64"
      ]
     },
     "execution_count": 19,
     "metadata": {},
     "output_type": "execute_result"
    }
   ],
   "source": [
    "issues_df = pu.count_by_column(df, _PRODUCT)\n",
    "issues_df.head(20)"
   ]
  },
  {
   "cell_type": "code",
   "execution_count": 20,
   "metadata": {},
   "outputs": [
    {
     "name": "stderr",
     "output_type": "stream",
     "text": [
      "DEBUG:PandasUtil:df has 16419 rows and 2 columns.\n",
      "DEBUG:PandasUtil:df has 16419 rows and 2 columns.\n"
     ]
    },
    {
     "data": {
      "text/plain": [
       "(16419, 2)"
      ]
     },
     "execution_count": 20,
     "metadata": {},
     "output_type": "execute_result"
    }
   ],
   "source": [
    "# Drop null rows\n",
    "df = pu.without_null_rows(df, _PRODUCT)\n",
    "pu.get_rowCount_colCount(df)\n",
    "df = pu.without_null_rows(df, _COMPLAINT)\n",
    "pu.get_rowCount_colCount(df)\n"
   ]
  },
  {
   "cell_type": "markdown",
   "metadata": {},
   "source": [
    "## Should we oversample the categories with few results?\n",
    "Might consider oversampling. However, it would be nice to have the big category (Mortgage) to carry more weight. "
   ]
  },
  {
   "cell_type": "code",
   "execution_count": 21,
   "metadata": {},
   "outputs": [
    {
     "name": "stderr",
     "output_type": "stream",
     "text": [
      "DEBUG:matplotlib.axes._base:update_title_pos\n",
      "DEBUG:matplotlib.font_manager:findfont: Matching :family=sans-serif:style=normal:variant=normal:weight=normal:stretch=normal:size=10.0 to DejaVu Sans ('C:\\\\Users\\\\Owner\\\\Anaconda3\\\\lib\\\\site-packages\\\\matplotlib\\\\mpl-data\\\\fonts\\\\ttf\\\\DejaVuSans.ttf') with score of 0.050000.\n",
      "DEBUG:matplotlib.axes._base:update_title_pos\n",
      "DEBUG:matplotlib.axes._base:update_title_pos\n",
      "DEBUG:matplotlib.axes._base:update_title_pos\n"
     ]
    },
    {
     "data": {
      "image/png": "[encoded data removed]",
      "text/plain": [
       "<Figure size 432x288 with 1 Axes>"
      ]
     },
     "metadata": {
      "needs_background": "light"
     },
     "output_type": "display_data"
    }
   ],
   "source": [
    "## Plot the frequencies of the different plots.\n",
    "from PlotUtil import PlotUtil\n",
    "plu = PlotUtil()\n",
    "plu.count_plot(df, xlabel = _PRODUCT, return_function_do_not_plot = False)"
   ]
  },
  {
   "cell_type": "markdown",
   "metadata": {},
   "source": [
    "## Should we drop duplicates?"
   ]
  },
  {
   "cell_type": "code",
   "execution_count": 22,
   "metadata": {},
   "outputs": [
    {
     "name": "stderr",
     "output_type": "stream",
     "text": [
      "DEBUG:__main__:Found 56 duplicates.\n"
     ]
    },
    {
     "data": {
      "text/html": [
       "<div>\n",
       "<style scoped>\n",
       "    .dataframe tbody tr th:only-of-type {\n",
       "        vertical-align: middle;\n",
       "    }\n",
       "\n",
       "    .dataframe tbody tr th {\n",
       "        vertical-align: top;\n",
       "    }\n",
       "\n",
       "    .dataframe thead th {\n",
       "        text-align: right;\n",
       "    }\n",
       "</style>\n",
       "<table border=\"1\" class=\"dataframe\">\n",
       "  <thead>\n",
       "    <tr style=\"text-align: right;\">\n",
       "      <th></th>\n",
       "      <th>Product</th>\n",
       "      <th>Complaint</th>\n",
       "    </tr>\n",
       "  </thead>\n",
       "  <tbody>\n",
       "    <tr>\n",
       "      <th>291</th>\n",
       "      <td>Debt collection</td>\n",
       "      <td>This kind of account is placed as a charged of...</td>\n",
       "    </tr>\n",
       "    <tr>\n",
       "      <th>303</th>\n",
       "      <td>Debt collection</td>\n",
       "      <td>This kind of account is placed as a charged of...</td>\n",
       "    </tr>\n",
       "    <tr>\n",
       "      <th>3416</th>\n",
       "      <td>Credit reporting, credit repair services, or o...</td>\n",
       "      <td>I just received the most disappointing respons...</td>\n",
       "    </tr>\n",
       "    <tr>\n",
       "      <th>3433</th>\n",
       "      <td>Credit reporting, credit repair services, or o...</td>\n",
       "      <td>Wells Fargo refuses to own up and face their r...</td>\n",
       "    </tr>\n",
       "    <tr>\n",
       "      <th>3484</th>\n",
       "      <td>Debt collection</td>\n",
       "      <td>This kind of account is placed as a charged of...</td>\n",
       "    </tr>\n",
       "    <tr>\n",
       "      <th>3510</th>\n",
       "      <td>Credit card or prepaid card</td>\n",
       "      <td>This kind of account is placed as a charged of...</td>\n",
       "    </tr>\n",
       "    <tr>\n",
       "      <th>3538</th>\n",
       "      <td>Credit reporting, credit repair services, or o...</td>\n",
       "      <td>Wells Fargo Mortgage ; Loans XXXX, and XXXX We...</td>\n",
       "    </tr>\n",
       "    <tr>\n",
       "      <th>3960</th>\n",
       "      <td>Mortgage</td>\n",
       "      <td>This particular account situation that is late...</td>\n",
       "    </tr>\n",
       "    <tr>\n",
       "      <th>4935</th>\n",
       "      <td>Mortgage</td>\n",
       "      <td>FHA CASE # XXXX A modification was approved on...</td>\n",
       "    </tr>\n",
       "    <tr>\n",
       "      <th>6182</th>\n",
       "      <td>Debt collection</td>\n",
       "      <td>Creditor is reporting accounts that are invali...</td>\n",
       "    </tr>\n",
       "    <tr>\n",
       "      <th>6821</th>\n",
       "      <td>Credit card or prepaid card</td>\n",
       "      <td>This kind of account is placed as a charged of...</td>\n",
       "    </tr>\n",
       "    <tr>\n",
       "      <th>7028</th>\n",
       "      <td>Debt collection</td>\n",
       "      <td>I XXXX XXXX along with my wife XXXX XXXX are i...</td>\n",
       "    </tr>\n",
       "    <tr>\n",
       "      <th>7066</th>\n",
       "      <td>Debt collection</td>\n",
       "      <td>I XXXX XXXX along with my wife XXXX XXXX are i...</td>\n",
       "    </tr>\n",
       "    <tr>\n",
       "      <th>7300</th>\n",
       "      <td>Credit reporting, credit repair services, or o...</td>\n",
       "      <td>On XX/XX/XXXX, I exercised my rights under FCR...</td>\n",
       "    </tr>\n",
       "    <tr>\n",
       "      <th>7303</th>\n",
       "      <td>Mortgage</td>\n",
       "      <td>This particular account situation that is late...</td>\n",
       "    </tr>\n",
       "    <tr>\n",
       "      <th>9008</th>\n",
       "      <td>Debt collection</td>\n",
       "      <td>I feel like Wells Fargo is being discriminate ...</td>\n",
       "    </tr>\n",
       "    <tr>\n",
       "      <th>9957</th>\n",
       "      <td>Credit reporting, credit repair services, or o...</td>\n",
       "      <td>Dear District Attorney and to whom it may conc...</td>\n",
       "    </tr>\n",
       "    <tr>\n",
       "      <th>9983</th>\n",
       "      <td>Credit reporting, credit repair services, or o...</td>\n",
       "      <td>The claimant : XXXX XXXX XXXX XXXX XXXX XXXX X...</td>\n",
       "    </tr>\n",
       "    <tr>\n",
       "      <th>10055</th>\n",
       "      <td>Debt collection</td>\n",
       "      <td>I am a victim of identity theft and this debt ...</td>\n",
       "    </tr>\n",
       "    <tr>\n",
       "      <th>10116</th>\n",
       "      <td>Credit reporting, credit repair services, or o...</td>\n",
       "      <td>Wells Fargo has incorrectly reported our mortg...</td>\n",
       "    </tr>\n",
       "  </tbody>\n",
       "</table>\n",
       "</div>"
      ],
      "text/plain": [
       "                                                 Product                                          Complaint\n",
       "291                                      Debt collection  This kind of account is placed as a charged of...\n",
       "303                                      Debt collection  This kind of account is placed as a charged of...\n",
       "3416   Credit reporting, credit repair services, or o...  I just received the most disappointing respons...\n",
       "3433   Credit reporting, credit repair services, or o...  Wells Fargo refuses to own up and face their r...\n",
       "3484                                     Debt collection  This kind of account is placed as a charged of...\n",
       "3510                         Credit card or prepaid card  This kind of account is placed as a charged of...\n",
       "3538   Credit reporting, credit repair services, or o...  Wells Fargo Mortgage ; Loans XXXX, and XXXX We...\n",
       "3960                                            Mortgage  This particular account situation that is late...\n",
       "4935                                            Mortgage  FHA CASE # XXXX A modification was approved on...\n",
       "6182                                     Debt collection  Creditor is reporting accounts that are invali...\n",
       "6821                         Credit card or prepaid card  This kind of account is placed as a charged of...\n",
       "7028                                     Debt collection  I XXXX XXXX along with my wife XXXX XXXX are i...\n",
       "7066                                     Debt collection  I XXXX XXXX along with my wife XXXX XXXX are i...\n",
       "7300   Credit reporting, credit repair services, or o...  On XX/XX/XXXX, I exercised my rights under FCR...\n",
       "7303                                            Mortgage  This particular account situation that is late...\n",
       "9008                                     Debt collection  I feel like Wells Fargo is being discriminate ...\n",
       "9957   Credit reporting, credit repair services, or o...  Dear District Attorney and to whom it may conc...\n",
       "9983   Credit reporting, credit repair services, or o...  The claimant : XXXX XXXX XXXX XXXX XXXX XXXX X...\n",
       "10055                                    Debt collection  I am a victim of identity theft and this debt ...\n",
       "10116  Credit reporting, credit repair services, or o...  Wells Fargo has incorrectly reported our mortg..."
      ]
     },
     "execution_count": 22,
     "metadata": {},
     "output_type": "execute_result"
    }
   ],
   "source": [
    "dups = pu.duplicate_rows(df, [_COMPLAINT] )\n",
    "logger.debug(f'Found {len(dups)} duplicates.')\n",
    "dups.head(20)"
   ]
  },
  {
   "cell_type": "code",
   "execution_count": 23,
   "metadata": {},
   "outputs": [
    {
     "name": "stderr",
     "output_type": "stream",
     "text": [
      "DEBUG:PandasUtil:df has 16363 rows and 2 columns.\n"
     ]
    },
    {
     "data": {
      "text/plain": [
       "(16363, 2)"
      ]
     },
     "execution_count": 23,
     "metadata": {},
     "output_type": "execute_result"
    }
   ],
   "source": [
    "# Yes, let's drop.\n",
    "df = pu.drop_duplicates(df, [_COMPLAINT] )\n",
    "pu.get_rowCount_colCount(df)"
   ]
  },
  {
   "cell_type": "markdown",
   "metadata": {},
   "source": [
    "## Create a category ID corresponding to Product"
   ]
  },
  {
   "cell_type": "code",
   "execution_count": 24,
   "metadata": {},
   "outputs": [
    {
     "data": {
      "text/html": [
       "<div>\n",
       "<style scoped>\n",
       "    .dataframe tbody tr th:only-of-type {\n",
       "        vertical-align: middle;\n",
       "    }\n",
       "\n",
       "    .dataframe tbody tr th {\n",
       "        vertical-align: top;\n",
       "    }\n",
       "\n",
       "    .dataframe thead th {\n",
       "        text-align: right;\n",
       "    }\n",
       "</style>\n",
       "<table border=\"1\" class=\"dataframe\">\n",
       "  <thead>\n",
       "    <tr style=\"text-align: right;\">\n",
       "      <th></th>\n",
       "      <th>Product</th>\n",
       "      <th>Complaint</th>\n",
       "      <th>category_id</th>\n",
       "    </tr>\n",
       "  </thead>\n",
       "  <tbody>\n",
       "    <tr>\n",
       "      <th>0</th>\n",
       "      <td>Checking or savings account</td>\n",
       "      <td>Wells Fargo has sent me several general form l...</td>\n",
       "      <td>0</td>\n",
       "    </tr>\n",
       "    <tr>\n",
       "      <th>1</th>\n",
       "      <td>Credit reporting, credit repair services, or o...</td>\n",
       "      <td>This in reference to Wells Fargo bank. Referen...</td>\n",
       "      <td>1</td>\n",
       "    </tr>\n",
       "    <tr>\n",
       "      <th>2</th>\n",
       "      <td>Checking or savings account</td>\n",
       "      <td>I went into the Wells Fargo branch inside the ...</td>\n",
       "      <td>0</td>\n",
       "    </tr>\n",
       "    <tr>\n",
       "      <th>3</th>\n",
       "      <td>Checking or savings account</td>\n",
       "      <td>I have been notified by XXXX XXXX XXXX  that I...</td>\n",
       "      <td>0</td>\n",
       "    </tr>\n",
       "    <tr>\n",
       "      <th>4</th>\n",
       "      <td>Credit reporting, credit repair services, or o...</td>\n",
       "      <td>On XX/XX/XXXX &amp; XXXX, my identity was stolen. ...</td>\n",
       "      <td>1</td>\n",
       "    </tr>\n",
       "  </tbody>\n",
       "</table>\n",
       "</div>"
      ],
      "text/plain": [
       "                                             Product                                          Complaint  category_id\n",
       "0                        Checking or savings account  Wells Fargo has sent me several general form l...            0\n",
       "1  Credit reporting, credit repair services, or o...  This in reference to Wells Fargo bank. Referen...            1\n",
       "2                        Checking or savings account  I went into the Wells Fargo branch inside the ...            0\n",
       "3                        Checking or savings account  I have been notified by XXXX XXXX XXXX  that I...            0\n",
       "4  Credit reporting, credit repair services, or o...  On XX/XX/XXXX & XXXX, my identity was stolen. ...            1"
      ]
     },
     "execution_count": 24,
     "metadata": {},
     "output_type": "execute_result"
    }
   ],
   "source": [
    "from io import StringIO\n",
    "_ID = 'category_id'\n",
    "df[_ID] = df[_PRODUCT].factorize()[0]\n",
    "category_id_df = df[[_PRODUCT, _ID]].drop_duplicates().sort_values(_ID)\n",
    "category_to_id = dict(category_id_df.values)\n",
    "id_to_category = dict(category_id_df[[_ID, _PRODUCT]].values)\n",
    "df.head()"
   ]
  },
  {
   "cell_type": "markdown",
   "metadata": {},
   "source": [
    "## Do the train / test split\n"
   ]
  },
  {
   "cell_type": "code",
   "execution_count": 25,
   "metadata": {},
   "outputs": [
    {
     "name": "stderr",
     "output_type": "stream",
     "text": [
      "DEBUG:LogitUtil:Entering init_logger.\n",
      "DEBUG:LogitUtil:Exiting init_logger.\n",
      "2020-02-20 08:12:25,739 INFO Starting\n",
      "2020-02-20 08:12:25,739 INFO Starting\n",
      "INFO:Util:Starting\n",
      "INFO:__main__:X_train is shape (13090,). y_test is (3273,).\n"
     ]
    }
   ],
   "source": [
    "from DataScienceUtil import DataScienceUtil\n",
    "dsu = DataScienceUtil()\n",
    "X_train, X_test, y_train, y_test = dsu.train_test_split(X=df[_COMPLAINT], y=df[_ID], test_frac=0.2, seed=42)\n",
    "logger.info(f'X_train is shape {X_train.shape}. y_test is {y_test.shape}.')"
   ]
  },
  {
   "cell_type": "markdown",
   "metadata": {},
   "source": [
    "# Linear Regression model\n",
    "## First, tf-idf\n",
    "### sublinear_tf is set to True to use a logarithmic form for frequency\n",
    "### min_df = 5 means the word must be present in 5 documents\n",
    "### ngram_range includes unigrams and bigrams.\n",
    "### stop_words are English\n",
    "X_train has 13090 rows and 46953 features."
   ]
  },
  {
   "cell_type": "markdown",
   "metadata": {},
   "source": [
    "from sklearn.feature_extraction.text import CountVectorizer\n",
    "vect = CountVectorizer()\n",
    "vX = vect.fit_transform(X_train)\n",
    "print (vX)"
   ]
  },
  {
   "cell_type": "code",
   "execution_count": 15,
   "metadata": {},
   "outputs": [
    {
     "name": "stderr",
     "output_type": "stream",
     "text": [
      "DEBUG:__main__:Type of df[\"Complaint\"] is <class 'pandas.core.series.Series'>. \n",
      "DEBUG:__main__:Type of X_train is <class 'pandas.core.series.Series'>. \n",
      "DEBUG:__main__:Type of features is <class 'numpy.ndarray'>. \n"
     ]
    },
    {
     "data": {
      "text/plain": [
       "(16363, 57851)"
      ]
     },
     "execution_count": 15,
     "metadata": {},
     "output_type": "execute_result"
    }
   ],
   "source": [
    "from sklearn.feature_extraction.text import TfidfVectorizer\n",
    "\n",
    "tfidf = TfidfVectorizer(sublinear_tf=True, min_df=5, norm='l2', encoding='latin-1', ngram_range=(1, 2), stop_words='english')\n",
    "logger.debug(f'Type of df[\"Complaint\"] is {type(df[_COMPLAINT])}. ')\n",
    "logger.debug(f'Type of X_train is {type(X_train)}. ')\n",
    "\n",
    "features = tfidf.fit_transform(df[_COMPLAINT]).toarray()\n",
    "\n",
    "\n",
    "\n",
    "logger.debug(f'Type of features is {type(features)}. ')\n",
    "labels = df[_ID]\n",
    "features.shape"
   ]
  },
  {
   "cell_type": "raw",
   "metadata": {},
   "source": [
    "# Pipeline code from https://stackoverflow.com/questions/33091376/python-what-is-exactly-sklearn-pipeline-pipeline/33094099\n",
    "from sklearn.pipeline import Pipeline\n",
    "from sklearn.linear_model import SGDClassifier\n",
    "from sklearn.feature_extraction.text import CountVectorizer\n",
    "from sklearn.feature_extraction.text import TfidfTransformer\n",
    "\n",
    "pipeline = Pipeline([\n",
    "    ('vect', CountVectorizer()),\n",
    "    ('tfidf', TfidfTransformer()),\n",
    "    ('clf', SGDClassifier()),\n",
    "])\n",
    "predicted = pipeline.fit(X_train).predict(X_train)\n",
    "# Now evaluate all steps on test set\n",
    "predicted = pipeline.predict(X_test)\n",
    "type(predicted)"
   ]
  },
  {
   "cell_type": "code",
   "execution_count": null,
   "metadata": {},
   "outputs": [
    {
     "name": "stdout",
     "output_type": "stream",
     "text": [
      "# 'Bank account or service':\n",
      "  . Most correlated unigrams:\n",
      "       . deposit\n",
      "       . checking\n",
      "       . overdraft\n",
      "  . Most correlated bigrams:\n",
      "       . 35 00\n",
      "       . checking account\n",
      "       . overdraft fees\n",
      "# 'Checking or savings account':\n",
      "  . Most correlated unigrams:\n",
      "       . checking\n",
      "       . deposit\n",
      "       . bonus\n",
      "  . Most correlated bigrams:\n",
      "       . overdraft fees\n",
      "       . debit card\n",
      "       . checking account\n",
      "# 'Consumer Loan':\n",
      "  . Most correlated unigrams:\n",
      "       . car\n",
      "       . vehicle\n",
      "       . dealer\n",
      "  . Most correlated bigrams:\n",
      "       . auto loan\n",
      "       . fargo dealer\n",
      "       . dealer services\n",
      "# 'Credit card':\n",
      "  . Most correlated unigrams:\n",
      "       . dillard\n",
      "       . dillards\n",
      "       . card\n",
      "  . Most correlated bigrams:\n",
      "       . balance transfer\n",
      "       . card wells\n",
      "       . credit card\n"
     ]
    }
   ],
   "source": [
    "# Takes an inordiante time to run this cell. \n",
    "from sklearn.feature_selection import chi2\n",
    "import numpy as np\n",
    "\n",
    "top_grams = 2\n",
    "for Product, category_id in sorted(category_to_id.items()):\n",
    "  features_chi2 = chi2(features, labels == category_id)\n",
    "  indices = np.argsort(features_chi2[0])\n",
    "  feature_names = np.array(tfidf.get_feature_names())[indices]\n",
    "  unigrams = [v for v in feature_names if len(v.split(' ')) == 1]\n",
    "  bigrams = [v for v in feature_names if len(v.split(' ')) == 2]\n",
    "  print(\"# '{}':\".format(Product))\n",
    "  print(\"  . Most correlated unigrams:\\n       . {}\".format('\\n       . '.join(unigrams[-top_grams:])))\n",
    "  print(\"  . Most correlated bigrams:\\n       . {}\".format('\\n       . '.join(bigrams[-top_grams:])))\n"
   ]
  },
  {
   "cell_type": "markdown",
   "metadata": {},
   "source": [
    "## Some caveats from the chi-squared results\n",
    "1. This took an inordinate amount of time \n",
    "## Conclusions from the chi-squared results of feature extraction\n",
    "1. Some bigrams, like \"35 00,\" make no sense. Perhaps substitute numbers with #NUM\n",
    "## Future exploration\n",
    "1. See if trigrams would improve the chi-squared."
   ]
  },
  {
   "cell_type": "markdown",
   "metadata": {},
   "source": [
    "## Continuing the TF-IDF, using a pipeline\n",
    "### First, generate the Count Vectorizer\n",
    "Using the NLTK stop word list at https://gist.github.com/sebleier/554280 because of known problems with using 'english' in scikit-learn. "
   ]
  },
  {
   "cell_type": "code",
   "execution_count": 14,
   "metadata": {},
   "outputs": [
    {
     "name": "stderr",
     "output_type": "stream",
     "text": [
      "DEBUG:__main__:Shape of X_train counts is: (13090, 631903)\n"
     ]
    }
   ],
   "source": [
    "# Based on https://scikit-learn.org/stable/tutorial/text_analytics/working_with_text_data.html\n",
    "from sklearn.feature_extraction.text import CountVectorizer\n",
    "my_stop_words = ['i', 'me', 'my', 'myself', 'we', 'our', 'ours', 'ourselves', 'you', 'your', 'yours', \n",
    "'yourself', 'yourselves', 'he', 'him', 'his', 'himself', 'she', 'her', 'hers', 'herself', \n",
    "'it', 'its', 'itself', 'they', 'them', 'their', 'theirs', 'themselves', 'what', 'which', \n",
    "'who', 'whom', 'this', 'that', 'these', 'those', 'am', 'is', 'are', 'was', 'were', 'be', \n",
    "'been', 'being', 'have', 'has', 'had', 'having', 'do', 'does', 'did', 'doing', 'a', 'an', \n",
    "'the', 'and', 'but', 'if', 'or', 'because', 'as', 'until', 'while', 'of', 'at', 'by', 'for', \n",
    "'with', 'about', 'against', 'between', 'into', 'through', 'during', 'before', 'after', \n",
    "'above', 'below', 'to', 'from', 'up', 'down', 'in', 'out', 'on', 'off', 'over', 'under', \n",
    "'again', 'further', 'then', 'once', 'here', 'there', 'when', 'where', 'why', 'how', 'all', \n",
    "'any', 'both', 'each', 'few', 'more', 'most', 'other', 'some', 'such', 'no', 'nor', 'not', \n",
    "'only', 'own', 'same', 'so', 'than', 'too', 'very', 's', 't', 'can', 'will', 'just', 'don', \n",
    "'should', 'now',] # from NLTK's list \n",
    "count_vect = CountVectorizer(ngram_range=(2, 2), stop_words=my_stop_words)\n",
    "X_train_counts = count_vect.fit_transform(X_train)\n",
    "logger.debug(f'Shape of X_train counts is: {X_train_counts.shape}')"
   ]
  },
  {
   "cell_type": "markdown",
   "metadata": {},
   "source": [
    "### After the count vectorizer, may retrieve the frequency of a given word"
   ]
  },
  {
   "cell_type": "code",
   "execution_count": 15,
   "metadata": {},
   "outputs": [
    {
     "name": "stderr",
     "output_type": "stream",
     "text": [
      "DEBUG:__main__:some of vocabulary is ['trying modify', 'modify home', 'home loan', 'loan five', 'five months', 'months keep', 'keep getting', 'getting run', 'run around', 'around every', 'every time', 'time ask', 'ask representative', 'representative fact', 'fact items', 'items requested', 'requested states', 'states everything', 'everything inn', 'inn turn']\n",
      "DEBUG:__main__:The count of trying modify is: 577229\n"
     ]
    }
   ],
   "source": [
    "def word_freq(count_vec, find_me: str): \n",
    "    logger.debug(f'The count of {find_me} is: {count_vec.vocabulary_.get(find_me)}')\n",
    "    \n",
    "logger.debug(f'some of vocabulary is {list(count_vect.vocabulary_)[:20]}')\n",
    "word_freq(count_vect, list(count_vect.vocabulary_)[0])\n"
   ]
  },
  {
   "cell_type": "markdown",
   "metadata": {},
   "source": [
    "### Now set up the TF-IDF transformer"
   ]
  },
  {
   "cell_type": "code",
   "execution_count": 16,
   "metadata": {},
   "outputs": [
    {
     "data": {
      "text/plain": [
       "(13090, 631903)"
      ]
     },
     "execution_count": 16,
     "metadata": {},
     "output_type": "execute_result"
    }
   ],
   "source": [
    "from sklearn.feature_extraction.text import TfidfTransformer\n",
    "tfidf_transformer = TfidfTransformer()\n",
    "X_train_tfidf = tfidf_transformer.fit_transform(X_train_counts)\n",
    "X_train_tfidf.shape"
   ]
  },
  {
   "cell_type": "markdown",
   "metadata": {},
   "source": [
    "## Train the classifier"
   ]
  },
  {
   "cell_type": "code",
   "execution_count": 17,
   "metadata": {},
   "outputs": [
    {
     "name": "stderr",
     "output_type": "stream",
     "text": [
      "DEBUG:__main__:predicted vector is: [2 2 2]\n"
     ]
    },
    {
     "name": "stdout",
     "output_type": "stream",
     "text": [
      "  (0, 270664)\t1\n",
      "  (0, 356017)\t1\n",
      "  (0, 577229)\t1\n",
      "  (1, 109822)\t1\n",
      "  (1, 225200)\t1\n",
      "  (1, 418901)\t1\n",
      "  (1, 462097)\t1\n",
      "  (2, 540502)\t1\n",
      "'I am trying to modify my home loan.' => Mortgage\n",
      "'Please refund the fees on my checking account.' => Mortgage\n",
      "'Renegotiate my student loan' => Mortgage\n"
     ]
    }
   ],
   "source": [
    "from sklearn.naive_bayes import MultinomialNB\n",
    "\n",
    "clf = MultinomialNB().fit(X_train_tfidf, y_train)\n",
    "docs_new = ['I am trying to modify my home loan.', 'Please refund the fees on my checking account.', 'Renegotiate my student loan']\n",
    "X_new_counts = count_vect.transform(docs_new)\n",
    "print (X_new_counts)\n",
    "\n",
    "X_new_tfidf = tfidf_transformer.transform(X_new_counts)\n",
    "\n",
    "def look_up_category(find_me:int) -> str:\n",
    "    for cat, cat_id in category_to_id.items():\n",
    "        if find_me == cat_id:\n",
    "            return cat\n",
    "    return \"<not found!>\"\n",
    "\n",
    "predicted = clf.predict(X_new_tfidf)\n",
    "logger.debug(f'predicted vector is: {predicted}')\n",
    "for doc, category in zip(docs_new, predicted):\n",
    "    print('%r => %s' % (doc, look_up_category(category)))"
   ]
  },
  {
   "cell_type": "markdown",
   "metadata": {},
   "source": [
    "## Continuing with a pipeline\n",
    "### This will simplify the other models"
   ]
  },
  {
   "cell_type": "code",
   "execution_count": 35,
   "metadata": {},
   "outputs": [
    {
     "name": "stderr",
     "output_type": "stream",
     "text": [
      "DEBUG:__main__:X_train_tfidf.shape is (13090, 631903)\n"
     ]
    }
   ],
   "source": [
    "from sklearn.pipeline import Pipeline\n",
    "\n",
    "import numpy as np\n",
    "\n",
    "tfidf_transformer = TfidfTransformer()\n",
    "X_train_tfidf = tfidf_transformer.fit_transform(X_train_counts)\n",
    "logger.debug(f'X_train_tfidf.shape is {X_train_tfidf.shape}')\n",
    "\n",
    "text_clf = Pipeline([\n",
    "    ('vect', CountVectorizer(ngram_range=(1, 2), min_df=5, vocabulary=count_vect.vocabulary_)._validate_vocabulary()),\n",
    "#    ('vect', CountVectorizer()._validate_vocabulary()),\n",
    "    ('tfidf', TfidfTransformer()),\n",
    "    ('clf', MultinomialNB().fit(X_train_tfidf, y_train)),\n",
    "])\n"
   ]
  },
  {
   "cell_type": "markdown",
   "metadata": {},
   "source": [
    "# Naïve Bayes\n",
    "\"The multinomial Naive Bayes classifier is suitable for classification with discrete features (e.g., word counts for text classification). The multinomial distribution normally requires integer feature counts. However, in practice, fractional counts such as tf-idf may also work.\" From https://scikit-learn.org/stable/modules/generated/sklearn.naive_bayes.MultinomialNB.html"
   ]
  },
  {
   "cell_type": "code",
   "execution_count": 36,
   "metadata": {
    "collapsed": true
   },
   "outputs": [
    {
     "ename": "ValueError",
     "evalue": "could not convert string to float: 'The company is requiring a \" cushion \\'\\' in my escrow account, which is causing the payment to be much less affordable. Per RESPA guidelines, the company is allowed to implement a cushion comprised of two months of escrow payments, but they are not required to do so. In order to pay my mortgage without undue strain on my finances, I have respectfully requested Wells Fargo waive the requirement as a courtesy. I was continually lied to on the phone by agents of Wells Fargo, who stated that the cushion was required under the law. I advised them this is incorrect, and that it is an internal business decision to require the cushion. My call was escalated to an escalation team, and after speaking with an agent named XXXX, was advised after no contact for two weeks that they flatly denied my request, providing no other reasoning other beyond \" other servicers may have different requirements but Wells Fargo requires the cushion. \\'\\' I do not dispute that there was an increase in the amount of my escrow obligation, but the requirement of the \" cushion \\'\\' is not federally mandated, and it is fully within the ability of the company to waive the cushion in order to better accommodate the needs of one of their customers. I have been nothing but respectful in my interactions with the company, and yet now they leave me out to dry. I need assistance so that I can continue to pay my mortgage. I am a first time homebuyer, but have years of experience in the mortgage industry, and it is shameful the way that Wells Fargo treats their customers, especially in light of their XXXX XXXX dollar settlement due to unfair practices. You\\'d think they would like to help their customers in order to raise their respectability in the public eye, but it turns out that is not the case.'",
     "output_type": "error",
     "traceback": [
      "\u001b[1;31m---------------------------------------------------------------------------\u001b[0m",
      "\u001b[1;31mValueError\u001b[0m                                Traceback (most recent call last)",
      "\u001b[1;32m<ipython-input-36-799be430ae84>\u001b[0m in \u001b[0;36m<module>\u001b[1;34m\u001b[0m\n\u001b[0;32m      1\u001b[0m \u001b[1;31m# count_vect._validate_vocabulary()\u001b[0m\u001b[1;33m\u001b[0m\u001b[1;33m\u001b[0m\u001b[1;33m\u001b[0m\u001b[0m\n\u001b[1;32m----> 2\u001b[1;33m \u001b[0mpredicted\u001b[0m \u001b[1;33m=\u001b[0m \u001b[0mtext_clf\u001b[0m\u001b[1;33m.\u001b[0m\u001b[0mpredict\u001b[0m\u001b[1;33m(\u001b[0m\u001b[0mX_test\u001b[0m\u001b[1;33m)\u001b[0m\u001b[1;33m\u001b[0m\u001b[1;33m\u001b[0m\u001b[0m\n\u001b[0m\u001b[0;32m      3\u001b[0m \u001b[0mprint\u001b[0m \u001b[1;33m(\u001b[0m\u001b[0mpredicted\u001b[0m\u001b[1;33m[\u001b[0m\u001b[1;33m-\u001b[0m\u001b[1;36m10\u001b[0m\u001b[1;33m:\u001b[0m\u001b[1;33m]\u001b[0m\u001b[1;33m)\u001b[0m\u001b[1;33m\u001b[0m\u001b[1;33m\u001b[0m\u001b[0m\n\u001b[0;32m      4\u001b[0m \u001b[0mprint\u001b[0m \u001b[1;33m(\u001b[0m\u001b[0my_test\u001b[0m\u001b[1;33m[\u001b[0m\u001b[1;33m-\u001b[0m\u001b[1;36m10\u001b[0m\u001b[1;33m:\u001b[0m\u001b[1;33m]\u001b[0m\u001b[1;33m)\u001b[0m\u001b[1;33m\u001b[0m\u001b[1;33m\u001b[0m\u001b[0m\n\u001b[0;32m      5\u001b[0m \u001b[0mnp\u001b[0m\u001b[1;33m.\u001b[0m\u001b[0mmean\u001b[0m\u001b[1;33m(\u001b[0m\u001b[0mpredicted\u001b[0m \u001b[1;33m==\u001b[0m \u001b[0my_test\u001b[0m\u001b[1;33m)\u001b[0m\u001b[1;33m\u001b[0m\u001b[1;33m\u001b[0m\u001b[0m\n",
      "\u001b[1;32m~\\AppData\\Roaming\\Python\\Python37\\site-packages\\sklearn\\utils\\metaestimators.py\u001b[0m in \u001b[0;36m<lambda>\u001b[1;34m(*args, **kwargs)\u001b[0m\n\u001b[0;32m    114\u001b[0m \u001b[1;33m\u001b[0m\u001b[0m\n\u001b[0;32m    115\u001b[0m         \u001b[1;31m# lambda, but not partial, allows help() to work with update_wrapper\u001b[0m\u001b[1;33m\u001b[0m\u001b[1;33m\u001b[0m\u001b[1;33m\u001b[0m\u001b[0m\n\u001b[1;32m--> 116\u001b[1;33m         \u001b[0mout\u001b[0m \u001b[1;33m=\u001b[0m \u001b[1;32mlambda\u001b[0m \u001b[1;33m*\u001b[0m\u001b[0margs\u001b[0m\u001b[1;33m,\u001b[0m \u001b[1;33m**\u001b[0m\u001b[0mkwargs\u001b[0m\u001b[1;33m:\u001b[0m \u001b[0mself\u001b[0m\u001b[1;33m.\u001b[0m\u001b[0mfn\u001b[0m\u001b[1;33m(\u001b[0m\u001b[0mobj\u001b[0m\u001b[1;33m,\u001b[0m \u001b[1;33m*\u001b[0m\u001b[0margs\u001b[0m\u001b[1;33m,\u001b[0m \u001b[1;33m**\u001b[0m\u001b[0mkwargs\u001b[0m\u001b[1;33m)\u001b[0m\u001b[1;33m\u001b[0m\u001b[1;33m\u001b[0m\u001b[0m\n\u001b[0m\u001b[0;32m    117\u001b[0m         \u001b[1;31m# update the docstring of the returned function\u001b[0m\u001b[1;33m\u001b[0m\u001b[1;33m\u001b[0m\u001b[1;33m\u001b[0m\u001b[0m\n\u001b[0;32m    118\u001b[0m         \u001b[0mupdate_wrapper\u001b[0m\u001b[1;33m(\u001b[0m\u001b[0mout\u001b[0m\u001b[1;33m,\u001b[0m \u001b[0mself\u001b[0m\u001b[1;33m.\u001b[0m\u001b[0mfn\u001b[0m\u001b[1;33m)\u001b[0m\u001b[1;33m\u001b[0m\u001b[1;33m\u001b[0m\u001b[0m\n",
      "\u001b[1;32m~\\AppData\\Roaming\\Python\\Python37\\site-packages\\sklearn\\pipeline.py\u001b[0m in \u001b[0;36mpredict\u001b[1;34m(self, X, **predict_params)\u001b[0m\n\u001b[0;32m    419\u001b[0m         \u001b[0mXt\u001b[0m \u001b[1;33m=\u001b[0m \u001b[0mX\u001b[0m\u001b[1;33m\u001b[0m\u001b[1;33m\u001b[0m\u001b[0m\n\u001b[0;32m    420\u001b[0m         \u001b[1;32mfor\u001b[0m \u001b[0m_\u001b[0m\u001b[1;33m,\u001b[0m \u001b[0mname\u001b[0m\u001b[1;33m,\u001b[0m \u001b[0mtransform\u001b[0m \u001b[1;32min\u001b[0m \u001b[0mself\u001b[0m\u001b[1;33m.\u001b[0m\u001b[0m_iter\u001b[0m\u001b[1;33m(\u001b[0m\u001b[0mwith_final\u001b[0m\u001b[1;33m=\u001b[0m\u001b[1;32mFalse\u001b[0m\u001b[1;33m)\u001b[0m\u001b[1;33m:\u001b[0m\u001b[1;33m\u001b[0m\u001b[1;33m\u001b[0m\u001b[0m\n\u001b[1;32m--> 421\u001b[1;33m             \u001b[0mXt\u001b[0m \u001b[1;33m=\u001b[0m \u001b[0mtransform\u001b[0m\u001b[1;33m.\u001b[0m\u001b[0mtransform\u001b[0m\u001b[1;33m(\u001b[0m\u001b[0mXt\u001b[0m\u001b[1;33m)\u001b[0m\u001b[1;33m\u001b[0m\u001b[1;33m\u001b[0m\u001b[0m\n\u001b[0m\u001b[0;32m    422\u001b[0m         \u001b[1;32mreturn\u001b[0m \u001b[0mself\u001b[0m\u001b[1;33m.\u001b[0m\u001b[0msteps\u001b[0m\u001b[1;33m[\u001b[0m\u001b[1;33m-\u001b[0m\u001b[1;36m1\u001b[0m\u001b[1;33m]\u001b[0m\u001b[1;33m[\u001b[0m\u001b[1;33m-\u001b[0m\u001b[1;36m1\u001b[0m\u001b[1;33m]\u001b[0m\u001b[1;33m.\u001b[0m\u001b[0mpredict\u001b[0m\u001b[1;33m(\u001b[0m\u001b[0mXt\u001b[0m\u001b[1;33m,\u001b[0m \u001b[1;33m**\u001b[0m\u001b[0mpredict_params\u001b[0m\u001b[1;33m)\u001b[0m\u001b[1;33m\u001b[0m\u001b[1;33m\u001b[0m\u001b[0m\n\u001b[0;32m    423\u001b[0m \u001b[1;33m\u001b[0m\u001b[0m\n",
      "\u001b[1;32m~\\AppData\\Roaming\\Python\\Python37\\site-packages\\sklearn\\feature_extraction\\text.py\u001b[0m in \u001b[0;36mtransform\u001b[1;34m(self, X, copy)\u001b[0m\n\u001b[0;32m   1300\u001b[0m         \u001b[0mvectors\u001b[0m \u001b[1;33m:\u001b[0m \u001b[0msparse\u001b[0m \u001b[0mmatrix\u001b[0m\u001b[1;33m,\u001b[0m \u001b[1;33m[\u001b[0m\u001b[0mn_samples\u001b[0m\u001b[1;33m,\u001b[0m \u001b[0mn_features\u001b[0m\u001b[1;33m]\u001b[0m\u001b[1;33m\u001b[0m\u001b[1;33m\u001b[0m\u001b[0m\n\u001b[0;32m   1301\u001b[0m         \"\"\"\n\u001b[1;32m-> 1302\u001b[1;33m         \u001b[0mX\u001b[0m \u001b[1;33m=\u001b[0m \u001b[0mcheck_array\u001b[0m\u001b[1;33m(\u001b[0m\u001b[0mX\u001b[0m\u001b[1;33m,\u001b[0m \u001b[0maccept_sparse\u001b[0m\u001b[1;33m=\u001b[0m\u001b[1;34m'csr'\u001b[0m\u001b[1;33m,\u001b[0m \u001b[0mdtype\u001b[0m\u001b[1;33m=\u001b[0m\u001b[0mFLOAT_DTYPES\u001b[0m\u001b[1;33m,\u001b[0m \u001b[0mcopy\u001b[0m\u001b[1;33m=\u001b[0m\u001b[0mcopy\u001b[0m\u001b[1;33m)\u001b[0m\u001b[1;33m\u001b[0m\u001b[1;33m\u001b[0m\u001b[0m\n\u001b[0m\u001b[0;32m   1303\u001b[0m         \u001b[1;32mif\u001b[0m \u001b[1;32mnot\u001b[0m \u001b[0msp\u001b[0m\u001b[1;33m.\u001b[0m\u001b[0missparse\u001b[0m\u001b[1;33m(\u001b[0m\u001b[0mX\u001b[0m\u001b[1;33m)\u001b[0m\u001b[1;33m:\u001b[0m\u001b[1;33m\u001b[0m\u001b[1;33m\u001b[0m\u001b[0m\n\u001b[0;32m   1304\u001b[0m             \u001b[0mX\u001b[0m \u001b[1;33m=\u001b[0m \u001b[0msp\u001b[0m\u001b[1;33m.\u001b[0m\u001b[0mcsr_matrix\u001b[0m\u001b[1;33m(\u001b[0m\u001b[0mX\u001b[0m\u001b[1;33m,\u001b[0m \u001b[0mdtype\u001b[0m\u001b[1;33m=\u001b[0m\u001b[0mnp\u001b[0m\u001b[1;33m.\u001b[0m\u001b[0mfloat64\u001b[0m\u001b[1;33m)\u001b[0m\u001b[1;33m\u001b[0m\u001b[1;33m\u001b[0m\u001b[0m\n",
      "\u001b[1;32m~\\AppData\\Roaming\\Python\\Python37\\site-packages\\sklearn\\utils\\validation.py\u001b[0m in \u001b[0;36mcheck_array\u001b[1;34m(array, accept_sparse, accept_large_sparse, dtype, order, copy, force_all_finite, ensure_2d, allow_nd, ensure_min_samples, ensure_min_features, warn_on_dtype, estimator)\u001b[0m\n\u001b[0;32m    494\u001b[0m             \u001b[1;32mtry\u001b[0m\u001b[1;33m:\u001b[0m\u001b[1;33m\u001b[0m\u001b[1;33m\u001b[0m\u001b[0m\n\u001b[0;32m    495\u001b[0m                 \u001b[0mwarnings\u001b[0m\u001b[1;33m.\u001b[0m\u001b[0msimplefilter\u001b[0m\u001b[1;33m(\u001b[0m\u001b[1;34m'error'\u001b[0m\u001b[1;33m,\u001b[0m \u001b[0mComplexWarning\u001b[0m\u001b[1;33m)\u001b[0m\u001b[1;33m\u001b[0m\u001b[1;33m\u001b[0m\u001b[0m\n\u001b[1;32m--> 496\u001b[1;33m                 \u001b[0marray\u001b[0m \u001b[1;33m=\u001b[0m \u001b[0mnp\u001b[0m\u001b[1;33m.\u001b[0m\u001b[0masarray\u001b[0m\u001b[1;33m(\u001b[0m\u001b[0marray\u001b[0m\u001b[1;33m,\u001b[0m \u001b[0mdtype\u001b[0m\u001b[1;33m=\u001b[0m\u001b[0mdtype\u001b[0m\u001b[1;33m,\u001b[0m \u001b[0morder\u001b[0m\u001b[1;33m=\u001b[0m\u001b[0morder\u001b[0m\u001b[1;33m)\u001b[0m\u001b[1;33m\u001b[0m\u001b[1;33m\u001b[0m\u001b[0m\n\u001b[0m\u001b[0;32m    497\u001b[0m             \u001b[1;32mexcept\u001b[0m \u001b[0mComplexWarning\u001b[0m\u001b[1;33m:\u001b[0m\u001b[1;33m\u001b[0m\u001b[1;33m\u001b[0m\u001b[0m\n\u001b[0;32m    498\u001b[0m                 raise ValueError(\"Complex data not supported\\n\"\n",
      "\u001b[1;32m~\\AppData\\Roaming\\Python\\Python37\\site-packages\\numpy\\core\\_asarray.py\u001b[0m in \u001b[0;36masarray\u001b[1;34m(a, dtype, order)\u001b[0m\n\u001b[0;32m     83\u001b[0m \u001b[1;33m\u001b[0m\u001b[0m\n\u001b[0;32m     84\u001b[0m     \"\"\"\n\u001b[1;32m---> 85\u001b[1;33m     \u001b[1;32mreturn\u001b[0m \u001b[0marray\u001b[0m\u001b[1;33m(\u001b[0m\u001b[0ma\u001b[0m\u001b[1;33m,\u001b[0m \u001b[0mdtype\u001b[0m\u001b[1;33m,\u001b[0m \u001b[0mcopy\u001b[0m\u001b[1;33m=\u001b[0m\u001b[1;32mFalse\u001b[0m\u001b[1;33m,\u001b[0m \u001b[0morder\u001b[0m\u001b[1;33m=\u001b[0m\u001b[0morder\u001b[0m\u001b[1;33m)\u001b[0m\u001b[1;33m\u001b[0m\u001b[1;33m\u001b[0m\u001b[0m\n\u001b[0m\u001b[0;32m     86\u001b[0m \u001b[1;33m\u001b[0m\u001b[0m\n\u001b[0;32m     87\u001b[0m \u001b[1;33m\u001b[0m\u001b[0m\n",
      "\u001b[1;32m~\\AppData\\Roaming\\Python\\Python37\\site-packages\\pandas\\core\\series.py\u001b[0m in \u001b[0;36m__array__\u001b[1;34m(self, dtype)\u001b[0m\n\u001b[0;32m    949\u001b[0m             \u001b[0mwarnings\u001b[0m\u001b[1;33m.\u001b[0m\u001b[0mwarn\u001b[0m\u001b[1;33m(\u001b[0m\u001b[0mmsg\u001b[0m\u001b[1;33m,\u001b[0m \u001b[0mFutureWarning\u001b[0m\u001b[1;33m,\u001b[0m \u001b[0mstacklevel\u001b[0m\u001b[1;33m=\u001b[0m\u001b[1;36m3\u001b[0m\u001b[1;33m)\u001b[0m\u001b[1;33m\u001b[0m\u001b[1;33m\u001b[0m\u001b[0m\n\u001b[0;32m    950\u001b[0m             \u001b[0mdtype\u001b[0m \u001b[1;33m=\u001b[0m \u001b[1;34m\"M8[ns]\"\u001b[0m\u001b[1;33m\u001b[0m\u001b[1;33m\u001b[0m\u001b[0m\n\u001b[1;32m--> 951\u001b[1;33m         \u001b[1;32mreturn\u001b[0m \u001b[0mnp\u001b[0m\u001b[1;33m.\u001b[0m\u001b[0masarray\u001b[0m\u001b[1;33m(\u001b[0m\u001b[0mself\u001b[0m\u001b[1;33m.\u001b[0m\u001b[0marray\u001b[0m\u001b[1;33m,\u001b[0m \u001b[0mdtype\u001b[0m\u001b[1;33m)\u001b[0m\u001b[1;33m\u001b[0m\u001b[1;33m\u001b[0m\u001b[0m\n\u001b[0m\u001b[0;32m    952\u001b[0m \u001b[1;33m\u001b[0m\u001b[0m\n\u001b[0;32m    953\u001b[0m     \u001b[1;31m# ----------------------------------------------------------------------\u001b[0m\u001b[1;33m\u001b[0m\u001b[1;33m\u001b[0m\u001b[1;33m\u001b[0m\u001b[0m\n",
      "\u001b[1;32m~\\AppData\\Roaming\\Python\\Python37\\site-packages\\numpy\\core\\_asarray.py\u001b[0m in \u001b[0;36masarray\u001b[1;34m(a, dtype, order)\u001b[0m\n\u001b[0;32m     83\u001b[0m \u001b[1;33m\u001b[0m\u001b[0m\n\u001b[0;32m     84\u001b[0m     \"\"\"\n\u001b[1;32m---> 85\u001b[1;33m     \u001b[1;32mreturn\u001b[0m \u001b[0marray\u001b[0m\u001b[1;33m(\u001b[0m\u001b[0ma\u001b[0m\u001b[1;33m,\u001b[0m \u001b[0mdtype\u001b[0m\u001b[1;33m,\u001b[0m \u001b[0mcopy\u001b[0m\u001b[1;33m=\u001b[0m\u001b[1;32mFalse\u001b[0m\u001b[1;33m,\u001b[0m \u001b[0morder\u001b[0m\u001b[1;33m=\u001b[0m\u001b[0morder\u001b[0m\u001b[1;33m)\u001b[0m\u001b[1;33m\u001b[0m\u001b[1;33m\u001b[0m\u001b[0m\n\u001b[0m\u001b[0;32m     86\u001b[0m \u001b[1;33m\u001b[0m\u001b[0m\n\u001b[0;32m     87\u001b[0m \u001b[1;33m\u001b[0m\u001b[0m\n",
      "\u001b[1;32m~\\AppData\\Roaming\\Python\\Python37\\site-packages\\pandas\\core\\arrays\\numpy_.py\u001b[0m in \u001b[0;36m__array__\u001b[1;34m(self, dtype)\u001b[0m\n\u001b[0;32m    164\u001b[0m \u001b[1;33m\u001b[0m\u001b[0m\n\u001b[0;32m    165\u001b[0m     \u001b[1;32mdef\u001b[0m \u001b[0m__array__\u001b[0m\u001b[1;33m(\u001b[0m\u001b[0mself\u001b[0m\u001b[1;33m,\u001b[0m \u001b[0mdtype\u001b[0m\u001b[1;33m=\u001b[0m\u001b[1;32mNone\u001b[0m\u001b[1;33m)\u001b[0m\u001b[1;33m:\u001b[0m\u001b[1;33m\u001b[0m\u001b[1;33m\u001b[0m\u001b[0m\n\u001b[1;32m--> 166\u001b[1;33m         \u001b[1;32mreturn\u001b[0m \u001b[0mnp\u001b[0m\u001b[1;33m.\u001b[0m\u001b[0masarray\u001b[0m\u001b[1;33m(\u001b[0m\u001b[0mself\u001b[0m\u001b[1;33m.\u001b[0m\u001b[0m_ndarray\u001b[0m\u001b[1;33m,\u001b[0m \u001b[0mdtype\u001b[0m\u001b[1;33m=\u001b[0m\u001b[0mdtype\u001b[0m\u001b[1;33m)\u001b[0m\u001b[1;33m\u001b[0m\u001b[1;33m\u001b[0m\u001b[0m\n\u001b[0m\u001b[0;32m    167\u001b[0m \u001b[1;33m\u001b[0m\u001b[0m\n\u001b[0;32m    168\u001b[0m     \u001b[0m_HANDLED_TYPES\u001b[0m \u001b[1;33m=\u001b[0m \u001b[1;33m(\u001b[0m\u001b[0mnp\u001b[0m\u001b[1;33m.\u001b[0m\u001b[0mndarray\u001b[0m\u001b[1;33m,\u001b[0m \u001b[0mnumbers\u001b[0m\u001b[1;33m.\u001b[0m\u001b[0mNumber\u001b[0m\u001b[1;33m)\u001b[0m\u001b[1;33m\u001b[0m\u001b[1;33m\u001b[0m\u001b[0m\n",
      "\u001b[1;32m~\\AppData\\Roaming\\Python\\Python37\\site-packages\\numpy\\core\\_asarray.py\u001b[0m in \u001b[0;36masarray\u001b[1;34m(a, dtype, order)\u001b[0m\n\u001b[0;32m     83\u001b[0m \u001b[1;33m\u001b[0m\u001b[0m\n\u001b[0;32m     84\u001b[0m     \"\"\"\n\u001b[1;32m---> 85\u001b[1;33m     \u001b[1;32mreturn\u001b[0m \u001b[0marray\u001b[0m\u001b[1;33m(\u001b[0m\u001b[0ma\u001b[0m\u001b[1;33m,\u001b[0m \u001b[0mdtype\u001b[0m\u001b[1;33m,\u001b[0m \u001b[0mcopy\u001b[0m\u001b[1;33m=\u001b[0m\u001b[1;32mFalse\u001b[0m\u001b[1;33m,\u001b[0m \u001b[0morder\u001b[0m\u001b[1;33m=\u001b[0m\u001b[0morder\u001b[0m\u001b[1;33m)\u001b[0m\u001b[1;33m\u001b[0m\u001b[1;33m\u001b[0m\u001b[0m\n\u001b[0m\u001b[0;32m     86\u001b[0m \u001b[1;33m\u001b[0m\u001b[0m\n\u001b[0;32m     87\u001b[0m \u001b[1;33m\u001b[0m\u001b[0m\n",
      "\u001b[1;31mValueError\u001b[0m: could not convert string to float: 'The company is requiring a \" cushion \\'\\' in my escrow account, which is causing the payment to be much less affordable. Per RESPA guidelines, the company is allowed to implement a cushion comprised of two months of escrow payments, but they are not required to do so. In order to pay my mortgage without undue strain on my finances, I have respectfully requested Wells Fargo waive the requirement as a courtesy. I was continually lied to on the phone by agents of Wells Fargo, who stated that the cushion was required under the law. I advised them this is incorrect, and that it is an internal business decision to require the cushion. My call was escalated to an escalation team, and after speaking with an agent named XXXX, was advised after no contact for two weeks that they flatly denied my request, providing no other reasoning other beyond \" other servicers may have different requirements but Wells Fargo requires the cushion. \\'\\' I do not dispute that there was an increase in the amount of my escrow obligation, but the requirement of the \" cushion \\'\\' is not federally mandated, and it is fully within the ability of the company to waive the cushion in order to better accommodate the needs of one of their customers. I have been nothing but respectful in my interactions with the company, and yet now they leave me out to dry. I need assistance so that I can continue to pay my mortgage. I am a first time homebuyer, but have years of experience in the mortgage industry, and it is shameful the way that Wells Fargo treats their customers, especially in light of their XXXX XXXX dollar settlement due to unfair practices. You\\'d think they would like to help their customers in order to raise their respectability in the public eye, but it turns out that is not the case.'"
     ]
    }
   ],
   "source": [
    "# count_vect._validate_vocabulary()\n",
    "predicted = text_clf.predict(X_test)\n",
    "print (predicted[-10:])\n",
    "print (y_test[-10:])\n",
    "np.mean(predicted == y_test)"
   ]
  },
  {
   "cell_type": "markdown",
   "metadata": {},
   "source": [
    "# Naïve Bayes train function\n",
    "Defining a train function that will take a pipeline."
   ]
  },
  {
   "cell_type": "code",
   "execution_count": 29,
   "metadata": {},
   "outputs": [],
   "source": [
    "from sklearn.pipeline import Pipeline\n",
    "from sklearn.feature_extraction.text import TfidfVectorizer\n",
    "\n",
    "def train(pipeline: Pipeline, title:str) -> Pipeline:\n",
    "    X_train, X_test, y_train, y_test = dsu.train_test_split(X=df[_COMPLAINT], y=df[_ID], test_frac=0.2, seed=42)\n",
    "    pipeline.fit(X_train, y_train)\n",
    "    score = pipeline.score(X_test, y_test)\n",
    "    logger.info(f'Accuracy for {title}: {score*100.0:.3f}%.')\n",
    "    return pipeline"
   ]
  },
  {
   "cell_type": "markdown",
   "metadata": {},
   "source": [
    "# Naïve Bayes Trial 0\n",
    "Simple test, all things out-of-the-box. Using unigrams only."
   ]
  },
  {
   "cell_type": "code",
   "execution_count": 57,
   "metadata": {},
   "outputs": [
    {
     "name": "stderr",
     "output_type": "stream",
     "text": [
      "INFO:__main__:Accuracy for Trial 0 (Using unigrams.): 39.505%.\n"
     ]
    },
    {
     "data": {
      "text/plain": [
       "Pipeline(memory=None,\n",
       "         steps=[('vect',\n",
       "                 TfidfVectorizer(analyzer='word', binary=False,\n",
       "                                 decode_error='strict',\n",
       "                                 dtype=<class 'numpy.float64'>,\n",
       "                                 encoding='utf-8', input='content',\n",
       "                                 lowercase=True, max_df=1.0, max_features=None,\n",
       "                                 min_df=1, ngram_range=(1, 1), norm='l2',\n",
       "                                 preprocessor=None, smooth_idf=True,\n",
       "                                 stop_words=None, strip_accents=None,\n",
       "                                 sublinear_tf=False,\n",
       "                                 token_pattern='(?u)\\\\b\\\\w\\\\w+\\\\b',\n",
       "                                 tokenizer=None, use_idf=True,\n",
       "                                 vocabulary=None)),\n",
       "                ('clf',\n",
       "                 MultinomialNB(alpha=1.0, class_prior=None, fit_prior=True))],\n",
       "         verbose=False)"
      ]
     },
     "execution_count": 57,
     "metadata": {},
     "output_type": "execute_result"
    }
   ],
   "source": [
    "trial0 = Pipeline([\n",
    "    ('vect', TfidfVectorizer(ngram_range=(1, 1))),\n",
    "    ('clf', MultinomialNB()),\n",
    "])\n",
    "train(trial0, \"Trial 0 (Using unigrams.)\")"
   ]
  },
  {
   "cell_type": "markdown",
   "metadata": {},
   "source": [
    "# Naïve Bayes Trial 1\n",
    "Using unigrams and bigrams."
   ]
  },
  {
   "cell_type": "code",
   "execution_count": 58,
   "metadata": {},
   "outputs": [
    {
     "name": "stderr",
     "output_type": "stream",
     "text": [
      "INFO:__main__:Accuracy for Trial 1 (Using unigrams and bigrams.): 37.305%.\n"
     ]
    },
    {
     "data": {
      "text/plain": [
       "Pipeline(memory=None,\n",
       "         steps=[('vect',\n",
       "                 TfidfVectorizer(analyzer='word', binary=False,\n",
       "                                 decode_error='strict',\n",
       "                                 dtype=<class 'numpy.float64'>,\n",
       "                                 encoding='utf-8', input='content',\n",
       "                                 lowercase=True, max_df=1.0, max_features=None,\n",
       "                                 min_df=1, ngram_range=(1, 2), norm='l2',\n",
       "                                 preprocessor=None, smooth_idf=True,\n",
       "                                 stop_words=None, strip_accents=None,\n",
       "                                 sublinear_tf=False,\n",
       "                                 token_pattern='(?u)\\\\b\\\\w\\\\w+\\\\b',\n",
       "                                 tokenizer=None, use_idf=True,\n",
       "                                 vocabulary=None)),\n",
       "                ('clf',\n",
       "                 MultinomialNB(alpha=1.0, class_prior=None, fit_prior=True))],\n",
       "         verbose=False)"
      ]
     },
     "execution_count": 58,
     "metadata": {},
     "output_type": "execute_result"
    }
   ],
   "source": [
    "trial1 = Pipeline([\n",
    "    ('vect', TfidfVectorizer(ngram_range=(1, 2))),\n",
    "    ('clf', MultinomialNB()),\n",
    "])\n",
    "train(trial1, \"Trial 1 (Using unigrams and bigrams.)\")"
   ]
  },
  {
   "cell_type": "markdown",
   "metadata": {},
   "source": [
    "# Naïve Bayes Trial 2\n",
    "Simple test, all things out-of-the-box. Using bigrams and trigrams."
   ]
  },
  {
   "cell_type": "code",
   "execution_count": 59,
   "metadata": {},
   "outputs": [
    {
     "name": "stderr",
     "output_type": "stream",
     "text": [
      "INFO:__main__:Accuracy for Trial 2 (Using bigrams and trigrams.): 37.519%.\n"
     ]
    },
    {
     "data": {
      "text/plain": [
       "Pipeline(memory=None,\n",
       "         steps=[('vect',\n",
       "                 TfidfVectorizer(analyzer='word', binary=False,\n",
       "                                 decode_error='strict',\n",
       "                                 dtype=<class 'numpy.float64'>,\n",
       "                                 encoding='utf-8', input='content',\n",
       "                                 lowercase=True, max_df=1.0, max_features=None,\n",
       "                                 min_df=1, ngram_range=(2, 3), norm='l2',\n",
       "                                 preprocessor=None, smooth_idf=True,\n",
       "                                 stop_words=None, strip_accents=None,\n",
       "                                 sublinear_tf=False,\n",
       "                                 token_pattern='(?u)\\\\b\\\\w\\\\w+\\\\b',\n",
       "                                 tokenizer=None, use_idf=True,\n",
       "                                 vocabulary=None)),\n",
       "                ('clf',\n",
       "                 MultinomialNB(alpha=1.0, class_prior=None, fit_prior=True))],\n",
       "         verbose=False)"
      ]
     },
     "execution_count": 59,
     "metadata": {},
     "output_type": "execute_result"
    }
   ],
   "source": [
    "trial2 = Pipeline([\n",
    "    ('vect', TfidfVectorizer(ngram_range=(2, 3))),\n",
    "    ('clf', MultinomialNB()),\n",
    "])\n",
    "train(trial2, \"Trial 2 (Using bigrams and trigrams.)\")"
   ]
  },
  {
   "cell_type": "markdown",
   "metadata": {},
   "source": [
    "# Naïve Bayes Trial 3\n",
    "## Adding stop words.\n",
    "Using the NLTK stop word list at https://gist.github.com/sebleier/554280 because of known problems with using 'english' in scikit-learn. \n",
    "Will use unigrams only."
   ]
  },
  {
   "cell_type": "code",
   "execution_count": 37,
   "metadata": {},
   "outputs": [
    {
     "name": "stderr",
     "output_type": "stream",
     "text": [
      "INFO:__main__:Accuracy for Trial 3 (with stop words): 42.010%.\n"
     ]
    },
    {
     "data": {
      "text/plain": [
       "Pipeline(memory=None,\n",
       "         steps=[('vect',\n",
       "                 TfidfVectorizer(analyzer='word', binary=False,\n",
       "                                 decode_error='strict',\n",
       "                                 dtype=<class 'numpy.float64'>,\n",
       "                                 encoding='utf-8', input='content',\n",
       "                                 lowercase=True, max_df=1.0, max_features=None,\n",
       "                                 min_df=1, ngram_range=(1, 1), norm='l2',\n",
       "                                 preprocessor=None, smooth_idf=True,\n",
       "                                 stop_words=['i', 'me', 'my', 'myself', 'we',\n",
       "                                             'our', 'ours', 'ourselves', 'you',\n",
       "                                             'your', 'yours', 'yourself',\n",
       "                                             'yourselves', 'he', 'him', 'his',\n",
       "                                             'himself', 'she', 'her', 'hers',\n",
       "                                             'herself', 'it', 'its', 'itself',\n",
       "                                             'they', 'them', 'their', 'theirs',\n",
       "                                             'themselves', 'what', ...],\n",
       "                                 strip_accents=None, sublinear_tf=False,\n",
       "                                 token_pattern='(?u)\\\\b\\\\w\\\\w+\\\\b',\n",
       "                                 tokenizer=None, use_idf=True,\n",
       "                                 vocabulary=None)),\n",
       "                ('clf',\n",
       "                 MultinomialNB(alpha=1.0, class_prior=None, fit_prior=True))],\n",
       "         verbose=False)"
      ]
     },
     "execution_count": 37,
     "metadata": {},
     "output_type": "execute_result"
    }
   ],
   "source": [
    "my_stop_words = ['i', 'me', 'my', 'myself', 'we', 'our', 'ours', 'ourselves', 'you', 'your', 'yours', \n",
    "'yourself', 'yourselves', 'he', 'him', 'his', 'himself', 'she', 'her', 'hers', 'herself', \n",
    "'it', 'its', 'itself', 'they', 'them', 'their', 'theirs', 'themselves', 'what', 'which', \n",
    "'who', 'whom', 'this', 'that', 'these', 'those', 'am', 'is', 'are', 'was', 'were', 'be', \n",
    "'been', 'being', 'have', 'has', 'had', 'having', 'do', 'does', 'did', 'doing', 'a', 'an', \n",
    "'the', 'and', 'but', 'if', 'or', 'because', 'as', 'until', 'while', 'of', 'at', 'by', 'for', \n",
    "'with', 'about', 'against', 'between', 'into', 'through', 'during', 'before', 'after', \n",
    "'above', 'below', 'to', 'from', 'up', 'down', 'in', 'out', 'on', 'off', 'over', 'under', \n",
    "'again', 'further', 'then', 'once', 'here', 'there', 'when', 'where', 'why', 'how', 'all', \n",
    "'any', 'both', 'each', 'few', 'more', 'most', 'other', 'some', 'such', 'no', 'nor', 'not', \n",
    "'only', 'own', 'same', 'so', 'than', 'too', 'very', 's', 't', 'can', 'will', 'just', 'don', \n",
    "'should', 'now',] # from NLTK's list\n",
    "trial3 = Pipeline([\n",
    "    ('vect', TfidfVectorizer(stop_words=my_stop_words, ngram_range=(1, 1))),\n",
    "    ('clf', MultinomialNB()),\n",
    "])\n",
    "train(trial3, \"Trial 3 (with stop words)\")"
   ]
  },
  {
   "cell_type": "markdown",
   "metadata": {},
   "source": [
    "# Support Vector Machine\n",
    "Using Stochastic Gradient Descent for the classifier. "
   ]
  },
  {
   "cell_type": "code",
   "execution_count": 107,
   "metadata": {},
   "outputs": [
    {
     "name": "stderr",
     "output_type": "stream",
     "text": [
      "INFO:__main__:Accuracy for Trial 4 (Using SVM and SGD.): 55.454%.\n"
     ]
    },
    {
     "data": {
      "text/plain": [
       "Pipeline(memory=None,\n",
       "         steps=[('vect',\n",
       "                 TfidfVectorizer(analyzer='word', binary=False,\n",
       "                                 decode_error='strict',\n",
       "                                 dtype=<class 'numpy.float64'>,\n",
       "                                 encoding='utf-8', input='content',\n",
       "                                 lowercase=True, max_df=1.0, max_features=None,\n",
       "                                 min_df=1, ngram_range=(2, 3), norm='l2',\n",
       "                                 preprocessor=None, smooth_idf=True,\n",
       "                                 stop_words=None, strip_accents=None,\n",
       "                                 sublinear_tf=False,\n",
       "                                 token_pattern='(...\n",
       "                ('clf',\n",
       "                 SGDClassifier(alpha=0.001, average=False, class_weight=None,\n",
       "                               early_stopping=False, epsilon=0.1, eta0=0.0,\n",
       "                               fit_intercept=True, l1_ratio=0.15,\n",
       "                               learning_rate='optimal', loss='hinge',\n",
       "                               max_iter=5, n_iter_no_change=5, n_jobs=None,\n",
       "                               penalty='l2', power_t=0.5, random_state=42,\n",
       "                               shuffle=True, tol=None, validation_fraction=0.1,\n",
       "                               verbose=0, warm_start=False))],\n",
       "         verbose=False)"
      ]
     },
     "execution_count": 107,
     "metadata": {},
     "output_type": "execute_result"
    }
   ],
   "source": [
    "from sklearn.linear_model import SGDClassifier\n",
    "trial4 = Pipeline([\n",
    "    ('vect', TfidfVectorizer(ngram_range=(2, 3))),\n",
    "    ('clf', SGDClassifier(loss='hinge', penalty='l2',\n",
    "                          alpha=1e-3, random_state=42,\n",
    "                          max_iter=5, tol=None)),\n",
    "])\n",
    "train(trial4, \"Trial 4 (Using SVM and SGD.)\")"
   ]
  },
  {
   "cell_type": "markdown",
   "metadata": {},
   "source": [
    "# Now trying a grid search"
   ]
  },
  {
   "cell_type": "code",
   "execution_count": 42,
   "metadata": {},
   "outputs": [
    {
     "name": "stderr",
     "output_type": "stream",
     "text": [
      "C:\\Users\\Owner\\AppData\\Roaming\\Python\\Python37\\site-packages\\sklearn\\model_selection\\_split.py:1978: FutureWarning: The default value of cv will change from 3 to 5 in version 0.22. Specify it explicitly to silence this warning.\n",
      "  warnings.warn(CV_WARNING, FutureWarning)\n"
     ]
    },
    {
     "name": "stdout",
     "output_type": "stream",
     "text": [
      "Fitting 3 folds for each of 24 candidates, totalling 72 fits\n"
     ]
    },
    {
     "name": "stderr",
     "output_type": "stream",
     "text": [
      "[Parallel(n_jobs=-1)]: Using backend LokyBackend with 8 concurrent workers.\n",
      "[Parallel(n_jobs=-1)]: Done  34 tasks      | elapsed:  3.7min\n",
      "[Parallel(n_jobs=-1)]: Done  72 out of  72 | elapsed:  6.4min finished\n",
      "INFO:__main__:Best parameter (CV score=0.647):\n",
      "INFO:__main__:{'clf__alpha': 0.001, 'vect__max_df': 0.75, 'vect__ngram_range': (1, 1)}\n"
     ]
    }
   ],
   "source": [
    "from sklearn.model_selection import GridSearchCV\n",
    "\n",
    "pipe = Pipeline([\n",
    "    ('vect', TfidfVectorizer(stop_words=my_stop_words)),\n",
    "    ('clf', SGDClassifier(loss='hinge', penalty='l2',\n",
    "                          random_state=42,\n",
    "                          max_iter=5, tol=None)),\n",
    "])\n",
    "\n",
    "\n",
    "# Parameters of pipelines can be set using ‘__’ separated parameter names:\n",
    "param_grid = {'vect__ngram_range': [(1, 1), (1, 2), (2, 3)], \n",
    "              'vect__max_df': [0.25, 0.50, 0.75, 1.0],\n",
    "              'clf__alpha': (1e-2, 1e-3),\n",
    "             }\n",
    "X_train, X_test, y_train, y_test = dsu.train_test_split(X=df[_COMPLAINT], y=df[_ID], test_frac=0.2, seed=42)\n",
    "\n",
    "search = GridSearchCV(pipe, param_grid, n_jobs=-1, verbose=1)\n",
    "search.fit(X_train, y_train)\n",
    "\n",
    "logger.info(\"Best parameter (CV score=%0.3f):\" % search.best_score_)\n",
    "logger.info(search.best_params_)\n"
   ]
  },
  {
   "cell_type": "code",
   "execution_count": 106,
   "metadata": {},
   "outputs": [
    {
     "name": "stderr",
     "output_type": "stream",
     "text": [
      "INFO:__main__:Accuracy for Trial using grid search (Using SVM and SGD, 'clf__alpha': 0.001, 'vect__max_df': 0.75, 'vect__ngram_range': (1, 1).): 65.536%.\n"
     ]
    },
    {
     "data": {
      "text/plain": [
       "Pipeline(memory=None,\n",
       "         steps=[('vect',\n",
       "                 TfidfVectorizer(analyzer='word', binary=False,\n",
       "                                 decode_error='strict',\n",
       "                                 dtype=<class 'numpy.float64'>,\n",
       "                                 encoding='utf-8', input='content',\n",
       "                                 lowercase=True, max_df=0.75, max_features=None,\n",
       "                                 min_df=1, ngram_range=(1, 1), norm='l2',\n",
       "                                 preprocessor=None, smooth_idf=True,\n",
       "                                 stop_words=['i', 'me', 'my', 'myself', 'we',\n",
       "                                             'our', 'ours', 'ourselves', 'you...\n",
       "                ('clf',\n",
       "                 SGDClassifier(alpha=0.001, average=False, class_weight=None,\n",
       "                               early_stopping=False, epsilon=0.1, eta0=0.0,\n",
       "                               fit_intercept=True, l1_ratio=0.15,\n",
       "                               learning_rate='optimal', loss='hinge',\n",
       "                               max_iter=5, n_iter_no_change=5, n_jobs=None,\n",
       "                               penalty='l2', power_t=0.5, random_state=42,\n",
       "                               shuffle=True, tol=None, validation_fraction=0.1,\n",
       "                               verbose=0, warm_start=False))],\n",
       "         verbose=False)"
      ]
     },
     "execution_count": 106,
     "metadata": {},
     "output_type": "execute_result"
    }
   ],
   "source": [
    "from sklearn.linear_model import SGDClassifier\n",
    "\n",
    "pipe_best = Pipeline([\n",
    "    ('vect', TfidfVectorizer(stop_words=my_stop_words, max_df=0.75, ngram_range=(1,1))),\n",
    "    ('clf', SGDClassifier(loss='hinge', penalty='l2',\n",
    "                          alpha= 0.001, random_state=42,\n",
    "                          max_iter=5, tol=None)),\n",
    "])\n",
    "train(pipe_best, \"Trial using grid search (Using SVM and SGD, 'clf__alpha': 0.001, 'vect__max_df': 0.75, 'vect__ngram_range': (1, 1).)\")"
   ]
  },
  {
   "cell_type": "markdown",
   "metadata": {},
   "source": [
    "# Predictions based on best model"
   ]
  },
  {
   "cell_type": "code",
   "execution_count": 113,
   "metadata": {},
   "outputs": [
    {
     "name": "stderr",
     "output_type": "stream",
     "text": [
      "DEBUG:__main__:y_df starts with:\n",
      "   y_test  y_pred\n",
      "0       2       2\n",
      "1       1       1\n",
      "2       2       2\n",
      "3       2       2\n",
      "4       5       2\n",
      "DEBUG:__main__:size is: 11\n",
      "DEBUG:__main__:for test 0 vs pred 0: 298\n",
      "DEBUG:__main__:for test 0 vs pred 1: 3\n",
      "DEBUG:__main__:for test 0 vs pred 2: 69\n",
      "DEBUG:__main__:for test 0 vs pred 3: 16\n",
      "DEBUG:__main__:for test 0 vs pred 4: 10\n",
      "DEBUG:__main__:for test 0 vs pred 5: 1\n",
      "DEBUG:__main__:for test 0 vs pred 6: 0\n",
      "DEBUG:__main__:for test 0 vs pred 7: 0\n",
      "DEBUG:__main__:for test 0 vs pred 8: 0\n",
      "DEBUG:__main__:for test 0 vs pred 9: 66\n",
      "DEBUG:__main__:for test 0 vs pred 10: 1\n",
      "DEBUG:__main__:for test 1 vs pred 0: 5\n",
      "DEBUG:__main__:for test 1 vs pred 1: 112\n",
      "DEBUG:__main__:for test 1 vs pred 2: 73\n",
      "DEBUG:__main__:for test 1 vs pred 3: 0\n",
      "DEBUG:__main__:for test 1 vs pred 4: 11\n",
      "DEBUG:__main__:for test 1 vs pred 5: 4\n",
      "DEBUG:__main__:for test 1 vs pred 6: 7\n",
      "DEBUG:__main__:for test 1 vs pred 7: 5\n",
      "DEBUG:__main__:for test 1 vs pred 8: 4\n",
      "DEBUG:__main__:for test 1 vs pred 9: 7\n",
      "DEBUG:__main__:for test 1 vs pred 10: 0\n",
      "DEBUG:__main__:for test 2 vs pred 0: 0\n",
      "DEBUG:__main__:for test 2 vs pred 1: 3\n",
      "DEBUG:__main__:for test 2 vs pred 2: 1204\n",
      "DEBUG:__main__:for test 2 vs pred 3: 0\n",
      "DEBUG:__main__:for test 2 vs pred 4: 0\n",
      "DEBUG:__main__:for test 2 vs pred 5: 6\n",
      "DEBUG:__main__:for test 2 vs pred 6: 1\n",
      "DEBUG:__main__:for test 2 vs pred 7: 1\n",
      "DEBUG:__main__:for test 2 vs pred 8: 1\n",
      "DEBUG:__main__:for test 2 vs pred 9: 2\n",
      "DEBUG:__main__:for test 2 vs pred 10: 1\n",
      "DEBUG:__main__:for test 3 vs pred 0: 25\n",
      "DEBUG:__main__:for test 3 vs pred 1: 0\n",
      "DEBUG:__main__:for test 3 vs pred 2: 16\n",
      "DEBUG:__main__:for test 3 vs pred 3: 58\n",
      "DEBUG:__main__:for test 3 vs pred 4: 0\n",
      "DEBUG:__main__:for test 3 vs pred 5: 0\n",
      "DEBUG:__main__:for test 3 vs pred 6: 2\n",
      "DEBUG:__main__:for test 3 vs pred 7: 0\n",
      "DEBUG:__main__:for test 3 vs pred 8: 0\n",
      "DEBUG:__main__:for test 3 vs pred 9: 1\n",
      "DEBUG:__main__:for test 3 vs pred 10: 1\n",
      "DEBUG:__main__:for test 4 vs pred 0: 26\n",
      "DEBUG:__main__:for test 4 vs pred 1: 19\n",
      "DEBUG:__main__:for test 4 vs pred 2: 47\n",
      "DEBUG:__main__:for test 4 vs pred 3: 3\n",
      "DEBUG:__main__:for test 4 vs pred 4: 108\n",
      "DEBUG:__main__:for test 4 vs pred 5: 4\n",
      "DEBUG:__main__:for test 4 vs pred 6: 0\n",
      "DEBUG:__main__:for test 4 vs pred 7: 2\n",
      "DEBUG:__main__:for test 4 vs pred 8: 2\n",
      "DEBUG:__main__:for test 4 vs pred 9: 5\n",
      "DEBUG:__main__:for test 4 vs pred 10: 12\n",
      "DEBUG:__main__:for test 5 vs pred 0: 9\n",
      "DEBUG:__main__:for test 5 vs pred 1: 6\n",
      "DEBUG:__main__:for test 5 vs pred 2: 60\n",
      "DEBUG:__main__:for test 5 vs pred 3: 0\n",
      "DEBUG:__main__:for test 5 vs pred 4: 8\n",
      "DEBUG:__main__:for test 5 vs pred 5: 82\n",
      "DEBUG:__main__:for test 5 vs pred 6: 5\n",
      "DEBUG:__main__:for test 5 vs pred 7: 1\n",
      "DEBUG:__main__:for test 5 vs pred 8: 0\n",
      "DEBUG:__main__:for test 5 vs pred 9: 2\n",
      "DEBUG:__main__:for test 5 vs pred 10: 2\n",
      "DEBUG:__main__:for test 6 vs pred 0: 0\n",
      "DEBUG:__main__:for test 6 vs pred 1: 0\n",
      "DEBUG:__main__:for test 6 vs pred 2: 26\n",
      "DEBUG:__main__:for test 6 vs pred 3: 0\n",
      "DEBUG:__main__:for test 6 vs pred 4: 0\n",
      "DEBUG:__main__:for test 6 vs pred 5: 1\n",
      "DEBUG:__main__:for test 6 vs pred 6: 58\n",
      "DEBUG:__main__:for test 6 vs pred 7: 0\n",
      "DEBUG:__main__:for test 6 vs pred 8: 0\n",
      "DEBUG:__main__:for test 6 vs pred 9: 3\n",
      "DEBUG:__main__:for test 6 vs pred 10: 0\n",
      "DEBUG:__main__:for test 7 vs pred 0: 1\n",
      "DEBUG:__main__:for test 7 vs pred 1: 12\n",
      "DEBUG:__main__:for test 7 vs pred 2: 23\n",
      "DEBUG:__main__:for test 7 vs pred 3: 0\n",
      "DEBUG:__main__:for test 7 vs pred 4: 1\n",
      "DEBUG:__main__:for test 7 vs pred 5: 1\n",
      "DEBUG:__main__:for test 7 vs pred 6: 0\n",
      "DEBUG:__main__:for test 7 vs pred 7: 16\n",
      "DEBUG:__main__:for test 7 vs pred 8: 8\n",
      "DEBUG:__main__:for test 7 vs pred 9: 1\n",
      "DEBUG:__main__:for test 7 vs pred 10: 1\n",
      "DEBUG:__main__:for test 8 vs pred 0: 5\n",
      "DEBUG:__main__:for test 8 vs pred 1: 16\n",
      "DEBUG:__main__:for test 8 vs pred 2: 89\n",
      "DEBUG:__main__:for test 8 vs pred 3: 0\n",
      "DEBUG:__main__:for test 8 vs pred 4: 0\n",
      "DEBUG:__main__:for test 8 vs pred 5: 7\n",
      "DEBUG:__main__:for test 8 vs pred 6: 3\n",
      "DEBUG:__main__:for test 8 vs pred 7: 11\n",
      "DEBUG:__main__:for test 8 vs pred 8: 18\n",
      "DEBUG:__main__:for test 8 vs pred 9: 7\n",
      "DEBUG:__main__:for test 8 vs pred 10: 0\n",
      "DEBUG:__main__:for test 9 vs pred 0: 133\n",
      "DEBUG:__main__:for test 9 vs pred 1: 6\n",
      "DEBUG:__main__:for test 9 vs pred 2: 64\n",
      "DEBUG:__main__:for test 9 vs pred 3: 10\n",
      "DEBUG:__main__:for test 9 vs pred 4: 16\n",
      "DEBUG:__main__:for test 9 vs pred 5: 8\n",
      "DEBUG:__main__:for test 9 vs pred 6: 3\n",
      "DEBUG:__main__:for test 9 vs pred 7: 0\n",
      "DEBUG:__main__:for test 9 vs pred 8: 2\n",
      "DEBUG:__main__:for test 9 vs pred 9: 166\n",
      "DEBUG:__main__:for test 9 vs pred 10: 0\n",
      "DEBUG:__main__:for test 10 vs pred 0: 4\n",
      "DEBUG:__main__:for test 10 vs pred 1: 10\n",
      "DEBUG:__main__:for test 10 vs pred 2: 26\n",
      "DEBUG:__main__:for test 10 vs pred 3: 2\n",
      "DEBUG:__main__:for test 10 vs pred 4: 45\n",
      "DEBUG:__main__:for test 10 vs pred 5: 8\n",
      "DEBUG:__main__:for test 10 vs pred 6: 2\n",
      "DEBUG:__main__:for test 10 vs pred 7: 0\n",
      "DEBUG:__main__:for test 10 vs pred 8: 1\n",
      "DEBUG:__main__:for test 10 vs pred 9: 17\n",
      "DEBUG:__main__:for test 10 vs pred 10: 25\n",
      "DEBUG:__main__:ans:\n",
      "[[298, 3, 69, 16, 10, 1, 0, 0, 0, 66, 1], [5, 112, 73, 0, 11, 4, 7, 5, 4, 7, 0], [0, 3, 1204, 0, 0, 6, 1, 1, 1, 2, 1], [25, 0, 16, 58, 0, 0, 2, 0, 0, 1, 1], [26, 19, 47, 3, 108, 4, 0, 2, 2, 5, 12], [9, 6, 60, 0, 8, 82, 5, 1, 0, 2, 2], [0, 0, 26, 0, 0, 1, 58, 0, 0, 3, 0], [1, 12, 23, 0, 1, 1, 0, 16, 8, 1, 1], [5, 16, 89, 0, 0, 7, 3, 11, 18, 7, 0], [133, 6, 64, 10, 16, 8, 3, 0, 2, 166, 0], [4, 10, 26, 2, 45, 8, 2, 0, 1, 17, 25]]\n"
     ]
    }
   ],
   "source": [
    "# Create a dataframe with y_test and y_pred\n",
    "y_df = pu.convert_list_to_dataframe(list(y_test), [\"y_test\"])\n",
    "y_df['y_pred'] = y_predict.reshape((-1, 1))\n",
    "logger.debug(f'y_df starts with:\\n{y_df.head()}')\n",
    "# Now build the confusion matrix\n",
    "ans = []\n",
    "size = len(np.unique(y_test))\n",
    "logger.debug(f'size is: {size}')\n",
    "for i in range(size):\n",
    "    row = []\n",
    "    for j in range(size):\n",
    "        all_test_i = pu.select(y_df, 'y_test', i)\n",
    "        all_test_i_pred_j = pu.select(all_test_i, 'y_pred', j)\n",
    "        logger.debug(f'for test {i} vs pred {j}: {len(all_test_i_pred_j)}')\n",
    "        row.append(len(all_test_i_pred_j))\n",
    "    ans.append(row)\n",
    "logger.debug(f'ans:\\n{ans}')"
   ]
  },
  {
   "cell_type": "code",
   "execution_count": 105,
   "metadata": {},
   "outputs": [
    {
     "name": "stderr",
     "output_type": "stream",
     "text": [
      "DEBUG:matplotlib.colorbar:locator: <matplotlib.ticker.MaxNLocator object at 0x0000021746E6A940>\n",
      "DEBUG:matplotlib.colorbar:Using auto colorbar locator on colorbar\n",
      "DEBUG:matplotlib.colorbar:locator: <matplotlib.ticker.MaxNLocator object at 0x0000021746E6A940>\n",
      "DEBUG:matplotlib.colorbar:Setting pcolormesh\n",
      "DEBUG:matplotlib.axes._base:update_title_pos\n",
      "DEBUG:matplotlib.axes._base:update_title_pos\n",
      "DEBUG:matplotlib.axes._base:update_title_pos\n",
      "DEBUG:matplotlib.axes._base:update_title_pos\n",
      "DEBUG:matplotlib.axes._base:update_title_pos\n",
      "DEBUG:matplotlib.axes._base:update_title_pos\n",
      "DEBUG:matplotlib.axes._base:update_title_pos\n",
      "DEBUG:matplotlib.axes._base:update_title_pos\n",
      "DEBUG:matplotlib.axes._base:update_title_pos\n",
      "DEBUG:matplotlib.axes._base:update_title_pos\n",
      "DEBUG:matplotlib.axes._base:update_title_pos\n",
      "DEBUG:matplotlib.axes._base:update_title_pos\n"
     ]
    },
    {
     "data": {
      "image/png": "[encoded data removed]",
      "text/plain": [
       "<Figure size 432x288 with 2 Axes>"
      ]
     },
     "metadata": {
      "needs_background": "light"
     },
     "output_type": "display_data"
    }
   ],
   "source": [
    "plu.confusion_matrix_plot(ans)"
   ]
  }
 ],
 "metadata": {
  "kernelspec": {
   "display_name": "Python 3",
   "language": "python",
   "name": "python3"
  },
  "language_info": {
   "codemirror_mode": {
    "name": "ipython",
    "version": 3
   },
   "file_extension": ".py",
   "mimetype": "text/x-python",
   "name": "python",
   "nbconvert_exporter": "python",
   "pygments_lexer": "ipython3",
   "version": "3.7.1"
  }
 },
 "nbformat": 4,
 "nbformat_minor": 2
}
